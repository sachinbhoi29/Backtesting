{
 "cells": [
  {
   "cell_type": "code",
   "execution_count": 1,
   "metadata": {},
   "outputs": [],
   "source": [
    "import cryptocompare\n",
    "import pandas as pd\n",
    "import matplotlib.pyplot as plt\n",
    "import mplfinance as mpf\n",
    "from datetime import datetime, timedelta\n",
    "plt.rcParams[\"figure.figsize\"] = (18,7)"
   ]
  },
  {
   "cell_type": "code",
   "execution_count": 23,
   "metadata": {},
   "outputs": [],
   "source": [
    "# how much data you want\n",
    "limit_data = 200 #(hours)\n",
    "# What you wanna trade\n",
    "coin = 'ETH'\n",
    "# Base currency \n",
    "currency = 'BUSD'"
   ]
  },
  {
   "cell_type": "code",
   "execution_count": 24,
   "metadata": {},
   "outputs": [],
   "source": [
    "data = cryptocompare.get_historical_price_hour(coin, curr=currency, limit= limit_data, exchange='Binance')"
   ]
  },
  {
   "cell_type": "code",
   "execution_count": 25,
   "metadata": {},
   "outputs": [],
   "source": [
    "# mean = []\n",
    "time = []\n",
    "high = []\n",
    "low = []\n",
    "open1 = []\n",
    "close1 = []\n",
    "volume = []\n",
    "for i in range(len(data)):\n",
    "    hi = data[i]['high']\n",
    "    lo = data[i]['low']\n",
    "    op = data[i]['open']\n",
    "    cl = data[i]['close']\n",
    "    vl = data[i]['volumefrom']\n",
    "#     mean.append((hi+lo)/2)\n",
    "    time.append(i)\n",
    "    high.append(hi)\n",
    "    low.append(lo)\n",
    "    open1.append(op)\n",
    "    close1.append(cl)\n",
    "    volume.append(vl)\n",
    "#df = pd.DataFrame(list(zip(pd.Series(pd.date_range('2000', freq='H', periods=limit_data)),high,low,open1,close1,volume,mean)), columns =['Date','high','low','open','close','volumefrom', 'mean']) \n",
    "\n",
    "time_delta = timedelta(hours=limit_data, minutes=0, seconds=0, microseconds=0) # minus hours \n",
    "date_at_start = datetime.now() - time_delta\n",
    "days = pd.date_range(date_at_start, date_at_start + timedelta(limit_data/24), freq='H') # if freq is in hours then divide limit_data by 24\n",
    "\n",
    "df = pd.DataFrame({'Date': days,'Open':open1, 'High': high, 'Low' : low, 'Close': close1, 'Volume' : volume})\n",
    "df = df.set_index('Date')"
   ]
  },
  {
   "cell_type": "code",
   "execution_count": 26,
   "metadata": {},
   "outputs": [
    {
     "data": {
      "text/html": [
       "<div>\n",
       "<style scoped>\n",
       "    .dataframe tbody tr th:only-of-type {\n",
       "        vertical-align: middle;\n",
       "    }\n",
       "\n",
       "    .dataframe tbody tr th {\n",
       "        vertical-align: top;\n",
       "    }\n",
       "\n",
       "    .dataframe thead th {\n",
       "        text-align: right;\n",
       "    }\n",
       "</style>\n",
       "<table border=\"1\" class=\"dataframe\">\n",
       "  <thead>\n",
       "    <tr style=\"text-align: right;\">\n",
       "      <th></th>\n",
       "      <th>Open</th>\n",
       "      <th>High</th>\n",
       "      <th>Low</th>\n",
       "      <th>Close</th>\n",
       "      <th>Volume</th>\n",
       "    </tr>\n",
       "    <tr>\n",
       "      <th>Date</th>\n",
       "      <th></th>\n",
       "      <th></th>\n",
       "      <th></th>\n",
       "      <th></th>\n",
       "      <th></th>\n",
       "    </tr>\n",
       "  </thead>\n",
       "  <tbody>\n",
       "    <tr>\n",
       "      <th>2020-12-30 14:55:00.758987</th>\n",
       "      <td>736.15</td>\n",
       "      <td>742.54</td>\n",
       "      <td>732.77</td>\n",
       "      <td>741.86</td>\n",
       "      <td>13584.05</td>\n",
       "    </tr>\n",
       "    <tr>\n",
       "      <th>2020-12-30 15:55:00.758987</th>\n",
       "      <td>741.86</td>\n",
       "      <td>758.69</td>\n",
       "      <td>740.96</td>\n",
       "      <td>753.25</td>\n",
       "      <td>34410.74</td>\n",
       "    </tr>\n",
       "    <tr>\n",
       "      <th>2020-12-30 16:55:00.758987</th>\n",
       "      <td>753.25</td>\n",
       "      <td>755.56</td>\n",
       "      <td>747.38</td>\n",
       "      <td>751.82</td>\n",
       "      <td>16954.80</td>\n",
       "    </tr>\n",
       "    <tr>\n",
       "      <th>2020-12-30 17:55:00.758987</th>\n",
       "      <td>751.82</td>\n",
       "      <td>755.85</td>\n",
       "      <td>741.39</td>\n",
       "      <td>747.85</td>\n",
       "      <td>15090.40</td>\n",
       "    </tr>\n",
       "    <tr>\n",
       "      <th>2020-12-30 18:55:00.758987</th>\n",
       "      <td>747.85</td>\n",
       "      <td>751.16</td>\n",
       "      <td>742.87</td>\n",
       "      <td>744.93</td>\n",
       "      <td>9184.70</td>\n",
       "    </tr>\n",
       "    <tr>\n",
       "      <th>...</th>\n",
       "      <td>...</td>\n",
       "      <td>...</td>\n",
       "      <td>...</td>\n",
       "      <td>...</td>\n",
       "      <td>...</td>\n",
       "    </tr>\n",
       "    <tr>\n",
       "      <th>2021-01-07 18:55:00.758987</th>\n",
       "      <td>1255.75</td>\n",
       "      <td>1260.41</td>\n",
       "      <td>1238.31</td>\n",
       "      <td>1246.14</td>\n",
       "      <td>9535.17</td>\n",
       "    </tr>\n",
       "    <tr>\n",
       "      <th>2021-01-07 19:55:00.758987</th>\n",
       "      <td>1246.14</td>\n",
       "      <td>1246.69</td>\n",
       "      <td>1202.41</td>\n",
       "      <td>1225.91</td>\n",
       "      <td>27621.55</td>\n",
       "    </tr>\n",
       "    <tr>\n",
       "      <th>2021-01-07 20:55:00.758987</th>\n",
       "      <td>1225.91</td>\n",
       "      <td>1233.18</td>\n",
       "      <td>1183.62</td>\n",
       "      <td>1184.30</td>\n",
       "      <td>19127.90</td>\n",
       "    </tr>\n",
       "    <tr>\n",
       "      <th>2021-01-07 21:55:00.758987</th>\n",
       "      <td>1184.30</td>\n",
       "      <td>1200.43</td>\n",
       "      <td>1160.55</td>\n",
       "      <td>1185.64</td>\n",
       "      <td>27574.75</td>\n",
       "    </tr>\n",
       "    <tr>\n",
       "      <th>2021-01-07 22:55:00.758987</th>\n",
       "      <td>1185.64</td>\n",
       "      <td>1187.21</td>\n",
       "      <td>1066.90</td>\n",
       "      <td>1112.20</td>\n",
       "      <td>57031.78</td>\n",
       "    </tr>\n",
       "  </tbody>\n",
       "</table>\n",
       "<p>201 rows × 5 columns</p>\n",
       "</div>"
      ],
      "text/plain": [
       "                               Open     High      Low    Close    Volume\n",
       "Date                                                                    \n",
       "2020-12-30 14:55:00.758987   736.15   742.54   732.77   741.86  13584.05\n",
       "2020-12-30 15:55:00.758987   741.86   758.69   740.96   753.25  34410.74\n",
       "2020-12-30 16:55:00.758987   753.25   755.56   747.38   751.82  16954.80\n",
       "2020-12-30 17:55:00.758987   751.82   755.85   741.39   747.85  15090.40\n",
       "2020-12-30 18:55:00.758987   747.85   751.16   742.87   744.93   9184.70\n",
       "...                             ...      ...      ...      ...       ...\n",
       "2021-01-07 18:55:00.758987  1255.75  1260.41  1238.31  1246.14   9535.17\n",
       "2021-01-07 19:55:00.758987  1246.14  1246.69  1202.41  1225.91  27621.55\n",
       "2021-01-07 20:55:00.758987  1225.91  1233.18  1183.62  1184.30  19127.90\n",
       "2021-01-07 21:55:00.758987  1184.30  1200.43  1160.55  1185.64  27574.75\n",
       "2021-01-07 22:55:00.758987  1185.64  1187.21  1066.90  1112.20  57031.78\n",
       "\n",
       "[201 rows x 5 columns]"
      ]
     },
     "execution_count": 26,
     "metadata": {},
     "output_type": "execute_result"
    }
   ],
   "source": [
    "df"
   ]
  },
  {
   "cell_type": "code",
   "execution_count": 27,
   "metadata": {},
   "outputs": [
    {
     "name": "stderr",
     "output_type": "stream",
     "text": [
      "/usr/local/anaconda3/lib/python3.7/site-packages/ipykernel_launcher.py:34: UserWarning: 'Can't superimpose OHLC data with rule 'None'(index datetime resolution: 'microsecond'). Skipping.\n"
     ]
    },
    {
     "data": {
      "text/html": [
       "\n",
       "\n",
       "\n",
       "\n",
       "\n",
       "\n",
       "  <div class=\"bk-root\" id=\"a6f83219-07d3-4db3-979e-9457130bdbd5\" data-root-id=\"3834\"></div>\n"
      ]
     },
     "metadata": {},
     "output_type": "display_data"
    },
    {
     "data": {
      "application/javascript": [
       "(function(root) {\n",
       "  function embed_document(root) {\n",
       "    \n",
       "  var docs_json = {\"209cedb9-eaed-42ed-869b-17745acf5dfe\":{\"roots\":{\"references\":[{\"attributes\":{\"children\":[{\"id\":\"3831\"},{\"id\":\"3833\"}],\"sizing_mode\":\"stretch_width\"},\"id\":\"3834\",\"type\":\"Row\"},{\"attributes\":{\"overlay\":{\"id\":\"3470\"}},\"id\":\"3465\",\"type\":\"BoxZoomTool\"},{\"attributes\":{\"data_source\":{\"id\":\"3480\"},\"glyph\":{\"id\":\"3721\"},\"hover_glyph\":null,\"muted_glyph\":null,\"nonselection_glyph\":{\"id\":\"3722\"},\"selection_glyph\":null,\"view\":{\"id\":\"3724\"}},\"id\":\"3723\",\"type\":\"GlyphRenderer\"},{\"attributes\":{},\"id\":\"3451\",\"type\":\"LinearScale\"},{\"attributes\":{},\"id\":\"3687\",\"type\":\"UndoTool\"},{\"attributes\":{\"days\":[\"%d %b\",\"%a %d\"],\"months\":[\"%m/%Y\",\"%b'%y\"]},\"id\":\"3484\",\"type\":\"DatetimeTickFormatter\"},{\"attributes\":{\"axis\":{\"id\":\"3680\"},\"dimension\":1,\"ticker\":null},\"id\":\"3683\",\"type\":\"Grid\"},{\"attributes\":{\"dimensions\":\"width\",\"maintain_focus\":false},\"id\":\"3685\",\"type\":\"WheelZoomTool\"},{\"attributes\":{\"callback\":null,\"formatters\":{\"@datetime\":\"datetime\"},\"point_policy\":\"follow_mouse\",\"renderers\":[{\"id\":\"3655\"}],\"tooltips\":[[\"Date\",\"@datetime{%c}\"],[\"Size\",\"@size{0,0}\"],[\"P/L\",\"@returns_long{+0.[000]%}\"]]},\"id\":\"3662\",\"type\":\"HoverTool\"},{\"attributes\":{\"overlay\":{\"id\":\"3691\"}},\"id\":\"3686\",\"type\":\"BoxZoomTool\"},{\"attributes\":{\"data\":{\"Close\":{\"__ndarray__\":\"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\",\"dtype\":\"float64\",\"order\":\"little\",\"shape\":[201]},\"High\":{\"__ndarray__\":\"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\",\"dtype\":\"float64\",\"order\":\"little\",\"shape\":[201]},\"Low\":{\"__ndarray__\":\"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\",\"dtype\":\"float64\",\"order\":\"little\",\"shape\":[201]},\"Open\":{\"__ndarray__\":\"MzMzMzMBh0B7FK5H4S6HQAAAAAAAiodAw/UoXI9+h0DNzMzMzF6HQD0K16NwR4dASOF6FK6Dh0BSuB6F60uHQJqZmZmZC4dAZmZmZmYUh0CkcD0K1zmHQClcj8L1OIdAAAAAAAAsh0AfhetRuDKHQFK4HoXrb4dAuB6F61FKh0AAAAAAAFSHQJqZmZmZfYdA9ihcj8JLh0Bcj8L1KPiGQGZmZmZm8IZAMzMzMzPbhkBxPQrXowKHQEjhehSuvYZAj8L1KFwNh0C4HoXrUSSHQOF6FK5HHYdA9ihcj8JHh0DNzMzMzBiHQNejcD0KK4dAcT0K16MKh0CPwvUoXPmGQAAAAAAAbIdAw/UoXI9Kh0CF61G4HlGHQB+F61G4PIdApHA9Ctcvh0Bcj8L1KCiHQBSuR+F6FIdASOF6FK7bhkBxPQrXo/iGQD0K16NwE4dAAAAAAAAkh0ApXI/C9faGQKRwPQrXLYdAAAAAAAAch0BI4XoUrgeHQB+F61G4CodAzczMzMzMhkAzMzMzM7GGQPYoXI/Ct4ZAH4XrUbjahkBxPQrXo9CGQM3MzMzM1oZAj8L1KFzXhkCuR+F6FI6GQB+F61G42oZAZmZmZmbchkA9CtejcOGGQOF6FK5H24ZAw/UoXI/whkB7FK5H4RiHQFK4HoXrB4dASOF6FK77hkBxPQrXo7aGQHE9Ctej0IZAmpmZmZnZhkBcj8L1KIyHQOF6FK5HIYhAmpmZmZnPh0DD9ShcjxCIQFyPwvUofIhACtejcD1kiEBSuB6F62eIQMP1KFyPjohAUrgeheuth0ApXI/C9QqIQAAAAAAAJohACtejcD06iED2KFyPwkOIQNejcD0KTYhACtejcD1eiEA9CtejcCuIQHsUrkfhUohAmpmZmZmZiEApXI/C9QSJQIXrUbgeBYlA4XoUrkeRiUDXo3A9CpuJQMP1KFyP0olAKVyPwvX0iUB7FK5H4QKKQClcj8L1WotAj8L1KFyRjEBmZmZmZrqMQEjhehSuQ41ArkfhehRCjUCamZmZma+MQJqZmZmZzYxAMzMzMzOXjUBxPQrXo7SNQGZmZmZmCI9AhetRuB6hjkApXI/C9YiOQD0K16NwQY5AcT0K16OmjkC4HoXrUfqPQLgehetRGJBAhetRuB77kEBxPQrXo1mRQIXrUbgeWpBAuB6F61H4j0DhehSuR02OQFK4HoXrK45AZmZmZmaIjkAAAAAAAOCPQOxRuB6FpY9AZmZmZmZRkEDhehSuR0SQQNejcD0KlY9AexSuR+E+j0AfhetRuLqPQJqZmZmZS5BAexSuR+Hgj0A9CtejcHePQM3MzMzMrI9AUrgehetIkEBcj8L1KCGRQDMzMzMzcJFAmpmZmZnekECuR+F6FFSPQPYoXI/CZY9AmpmZmZnzjkCF61G4Hr+PQKRwPQrXXY9ApHA9CtcOkECkcD0K1zCQQMP1KFyPEpBAKVyPwvVKkECkcD0K1xaQQLgehetRA5BAH4XrUbhkkEAK16NwPXmQQD0K16NwrZBAUrgehevvkECPwvUoXNOQQEjhehSuLJFA16NwPQo2kUAAAAAAAPSQQMP1KFyPYZFA16NwPQo8kUDXo3A9CuuQQLgehetRxpBAUrgehevckEAzMzMzM9aQQM3MzMzMjZFACtejcD1FkUB7FK5H4XORQDMzMzMzV5FAUrgehetjkUAAAAAAADaRQHE9CtejdZFAMzMzMzMNkkDNzMzMzOuRQArXo3A9yJFACtejcD3EkUBxPQrXo+uRQFyPwvUoX5JAXI/C9SivkkAzMzMzM6ySQK5H4XoUNZJAMzMzMzPGkkDXo3A9Cn6SQKRwPQrXc5JAexSuR+HtkkCuR+F6FMySQJqZmZmZzZJAmpmZmZm9kkA9CtejcASTQBSuR+F6+pJAzczMzMzukkBcj8L1KMiSQOF6FK5HkpJArkfhehS1kkAzMzMzM9qSQFyPwvUog5JASOF6FK7LkkD2KFyPwjOTQD0K16NwEZNAUrgehesnk0AzMzMzM5KTQJqZmZmZxpNA9ihcj8Lfk0CkcD0K1x2TQOF6FK5HS5NAmpmZmZluk0AAAAAAAJ+TQMP1KFyPeJNAcT0K16Mnk0AzMzMzM4GSQMP1KFyPhpJA\",\"dtype\":\"float64\",\"order\":\"little\",\"shape\":[201]},\"SMA(C,38)_1_1\":{\"__ndarray__\":\"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\",\"dtype\":\"float64\",\"order\":\"little\",\"shape\":[201]},\"SMA(C,9)_0_1\":{\"__ndarray__\":\"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\",\"dtype\":\"float64\",\"order\":\"little\",\"shape\":[201]},\"Volume\":{\"__ndarray__\":\"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\",\"dtype\":\"float64\",\"order\":\"little\",\"shape\":[201]},\"datetime\":{\"__ndarray__\":\"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\",\"dtype\":\"float64\",\"order\":\"little\",\"shape\":[201]},\"equity\":{\"__ndarray__\":\"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\",\"dtype\":\"float64\",\"order\":\"little\",\"shape\":[201]},\"inc\":[\"1\",\"1\",\"0\",\"0\",\"0\",\"1\",\"0\",\"0\",\"1\",\"1\",\"0\",\"0\",\"1\",\"1\",\"0\",\"1\",\"1\",\"0\",\"0\",\"0\",\"0\",\"1\",\"0\",\"1\",\"1\",\"0\",\"1\",\"0\",\"1\",\"0\",\"0\",\"1\",\"0\",\"1\",\"0\",\"0\",\"0\",\"0\",\"0\",\"1\",\"1\",\"1\",\"0\",\"1\",\"0\",\"0\",\"1\",\"0\",\"0\",\"1\",\"1\",\"0\",\"1\",\"1\",\"0\",\"1\",\"1\",\"1\",\"0\",\"1\",\"1\",\"0\",\"0\",\"0\",\"1\",\"1\",\"1\",\"1\",\"0\",\"1\",\"1\",\"0\",\"1\",\"1\",\"0\",\"1\",\"1\",\"1\",\"1\",\"1\",\"1\",\"0\",\"1\",\"1\",\"1\",\"1\",\"1\",\"1\",\"1\",\"1\",\"1\",\"1\",\"1\",\"1\",\"1\",\"0\",\"0\",\"1\",\"1\",\"1\",\"1\",\"0\",\"0\",\"0\",\"1\",\"1\",\"1\",\"1\",\"1\",\"0\",\"0\",\"0\",\"0\",\"1\",\"1\",\"0\",\"1\",\"0\",\"0\",\"0\",\"1\",\"1\",\"0\",\"0\",\"1\",\"1\",\"1\",\"1\",\"0\",\"0\",\"1\",\"0\",\"1\",\"0\",\"1\",\"1\",\"0\",\"1\",\"0\",\"0\",\"1\",\"1\",\"1\",\"1\",\"0\",\"1\",\"1\",\"0\",\"1\",\"0\",\"0\",\"0\",\"1\",\"0\",\"1\",\"0\",\"1\",\"0\",\"1\",\"0\",\"1\",\"1\",\"0\",\"0\",\"0\",\"1\",\"1\",\"1\",\"0\",\"0\",\"1\",\"0\",\"0\",\"1\",\"0\",\"1\",\"0\",\"1\",\"0\",\"0\",\"0\",\"0\",\"1\",\"1\",\"0\",\"1\",\"1\",\"0\",\"1\",\"1\",\"1\",\"1\",\"0\",\"1\",\"1\",\"1\",\"0\",\"0\",\"0\",\"1\",\"0\"],\"index\":[0,1,2,3,4,5,6,7,8,9,10,11,12,13,14,15,16,17,18,19,20,21,22,23,24,25,26,27,28,29,30,31,32,33,34,35,36,37,38,39,40,41,42,43,44,45,46,47,48,49,50,51,52,53,54,55,56,57,58,59,60,61,62,63,64,65,66,67,68,69,70,71,72,73,74,75,76,77,78,79,80,81,82,83,84,85,86,87,88,89,90,91,92,93,94,95,96,97,98,99,100,101,102,103,104,105,106,107,108,109,110,111,112,113,114,115,116,117,118,119,120,121,122,123,124,125,126,127,128,129,130,131,132,133,134,135,136,137,138,139,140,141,142,143,144,145,146,147,148,149,150,151,152,153,154,155,156,157,158,159,160,161,162,163,164,165,166,167,168,169,170,171,172,173,174,175,176,177,178,179,180,181,182,183,184,185,186,187,188,189,190,191,192,193,194,195,196,197,198,199,200],\"ohlc_high\":{\"__ndarray__\":\"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\",\"dtype\":\"float64\",\"order\":\"little\",\"shape\":[201]},\"ohlc_low\":{\"__ndarray__\":\"XI/C9SjmhkBI4XoUrieHQNejcD0KW4dAhetRuB4rh0ApXI/C9TaHQD0K16NwR4dAXI/C9ShKh0AAAAAAAMCGQAAAAAAA+IZArkfhehQAh0BmZmZmZiCHQIXrUbgeBYdASOF6FK4lh0C4HoXrUTKHQOF6FK5HM4dAH4XrUbgCh0D+IENlh0WHQK5H4XoUSIdAAAAAAADYhkAAAAAAAJKGQD0K16Nwo4ZAXI/C9SjYhkAK16NwPaqGQI/C9Shct4ZAhetRuB7/hkAXbMEWbAOHQFD6pE/6AodAJAHfvJoGh0CuR+F6FAiHQBSuR+F66oZAFK5H4XrUhkBmZmZmZvSGQP8gQ2WHK4dATxvotIEwh0DNzMzMzCaHQFyPwvUoJodAhetRuB4Th0A9CtejcP2GQKRwPQrXs4ZAXI/C9SjShkDsUbgehfWGQD0K16NwDYdA4XoUrkfvhkCuR+F6FPaGQJQ+6ZM+D4dApHA9Ctf5hkAK16NwPfSGQArXo3A9xIZAAAAAAABohkCF61G4HpWGQI/C9ShcoYZACtejcD3EhkA9CtejcL+GQDMzMzMzzYZASOF6FK5xhkAAAAAAAGiGQLTD1OX2x4ZARIbKDlPNhkDXo3A9CsGGQG9/kKGy04ZAqewwdbnbhkAMlR2mLuGGQFK4HoXr0YZAcT0K16OohkBcj8L1KKaGQKRwPQrXx4ZAmpmZmZnPhkB/KQl9yASHQIfyGsprCodAT1d6Z8AOh0CQb+MuyxaHQJpGh58IHodA2P1LSeglh0DTjhUIIy+HQL7gzSaoModAD+z+pSQ5h0DRh0z21UGHQJiS0IdMSodAPmSyr05Sh0BY1ELMH1qHQHkN5TWUY4dAhJF2rEBqh0ABre0Fb3KHQBFG2rECfYdAM9lXJ1WKh0CITPbVSZmHQChVxrCorIdASI5oGh3Ah0B1pXcGHNSHQA2SI5pG6YdArZrzdKX+h0AkRzSNDh2IQJbeGXCQRYhAaBodfiJtiECkHSsQRpiIQKBiq+Y8w4hA2wvebILqiEAQRtqxAhKJQCNAa3vBPYlAiPnj27hqiUCDiq2a86CJQOF6FK5H1olAh0z21UkKikASp37PLTyKQJhGh58IbIpAAxVbNeegikDm8BMBWtmKQFvpnQEHHItA4M0mqNhgi0DgzSao2JiLQKC1veDNy4tAc5fl4oHyi0AAAAAAAKiLQGe5eGD3SYxAuBe82QR+jEACAAAAALCMQJR9dVJl6IxA8xMBWtsfjUCMrZrzdFCNQMNIO1YggI1ATaPDTwSyjUBMQh8y2eeNQCVHNI0OFo5AUwsxf3xBjkDKayivoWqOQEo7ViCMmY5AG8OiFmLSjkDZUF5DeQ6PQNGAg+SIQo9AKVyPwvUcj0AK16NwPeaOQK5H4XoUfI5AmpmZmZmdjkBI4XoUrkuPQKRwPQrXXY9A6pY49XvNj0AfhetRuLyPQPKkT/qkx49AdNInfdLfj0Blf5ChsvGPQI/C9ShcV49AX51UGUMSkECfCNDaXhuQQMHuX0rCIZBAfBt3Wa4mkEAc0TQ6/CeQQH11UmUMJ5BALyWhDxkrkECdrvTOgDSQQNajcD2KQpBATf2eW+JOkEDexl2WC1mQQOF6FK5HX5BACzF/fBtmkEAAre0Fb26QQF9KQh8ydZBAViCMtGOAkECT0IdM9ouQQAvXo3A9lpBADThIjmickECCg+SIpqaQQJ36PbdEtpBA1u+5JU7EkED1zoCDZM6QQBvKayiv0pBAzHLxwO7VkEBRXkN5DeCQQP3xbdxl9JBAzHLxwG4IkUCcTVCx1RqRQBKgtb1gLpFAN0HFVk1BkUABre0Fb1GRQOWIptHhY5FAoWKr5jx2kUBNSehDJoeRQEaA1vYCmZFAUFd6Z0CtkUCa7KuTqr6RQM55utI7z5FAeKxAGGndkUBTuB6Fa+iRQPzqpMoY9ZFAaGZmZmYAkkCa7KuTKgmSQHoN5TWUFZJAFwgj7dghkkA0MzMzMy6SQA+SI5pGPZJAfshkXx1QkkCiYqvmvGOSQDQzMzMzeJJAuB6F61HPkUDsUbgehVOSQC0QRtqxnZJAWoEw0g6tkkCnJPQhE7uSQG3VnKcryJJAFK5H4Xp+kkAzMzMzMyKSQJqZmZmZq5BA\",\"dtype\":\"float64\",\"order\":\"little\",\"shape\":[201]}},\"selected\":{\"id\":\"3547\"},\"selection_policy\":{\"id\":\"3546\"}},\"id\":\"3479\",\"type\":\"ColumnDataSource\"},{\"attributes\":{\"label\":{\"value\":\"SMA(C,38)\"},\"renderers\":[{\"id\":\"3756\"}]},\"id\":\"3768\",\"type\":\"LegendItem\"},{\"attributes\":{},\"id\":\"3674\",\"type\":\"LinearScale\"},{\"attributes\":{\"x0\":{\"field\":\"index\"},\"x1\":{\"field\":\"index\"},\"y0\":{\"field\":\"High\"},\"y1\":{\"field\":\"Low\"}},\"id\":\"3711\",\"type\":\"Segment\"},{\"attributes\":{\"formatter\":{\"id\":\"3485\"},\"ticker\":{\"id\":\"3677\"},\"visible\":true},\"id\":\"3676\",\"type\":\"LinearAxis\"},{\"attributes\":{\"source\":{\"id\":\"3573\"}},\"id\":\"3577\",\"type\":\"CDSView\"},{\"attributes\":{\"axis\":{\"id\":\"3676\"},\"ticker\":null},\"id\":\"3679\",\"type\":\"Grid\"},{\"attributes\":{},\"id\":\"3509\",\"type\":\"SaveTool\"},{\"attributes\":{\"callback\":null,\"formatters\":{\"@datetime\":\"datetime\"},\"mode\":\"vline\",\"point_policy\":\"follow_mouse\",\"renderers\":[{\"id\":\"3704\"}],\"tooltips\":[[\"Date\",\"@datetime{%c}\"],[\"Volume\",\"@Volume{0.00 a}\"]]},\"id\":\"3706\",\"type\":\"HoverTool\"},{\"attributes\":{\"logo\":null,\"toolbars\":[{\"id\":\"3511\"},{\"id\":\"3643\"},{\"id\":\"3471\"},{\"id\":\"3692\"}],\"tools\":[{\"id\":\"3503\"},{\"id\":\"3504\"},{\"id\":\"3505\"},{\"id\":\"3506\"},{\"id\":\"3507\"},{\"id\":\"3508\"},{\"id\":\"3509\"},{\"id\":\"3530\"},{\"id\":\"3772\"},{\"id\":\"3635\"},{\"id\":\"3636\"},{\"id\":\"3637\"},{\"id\":\"3638\"},{\"id\":\"3639\"},{\"id\":\"3640\"},{\"id\":\"3641\"},{\"id\":\"3662\"},{\"id\":\"3664\"},{\"id\":\"3772\"},{\"id\":\"3463\"},{\"id\":\"3464\"},{\"id\":\"3465\"},{\"id\":\"3466\"},{\"id\":\"3467\"},{\"id\":\"3468\"},{\"id\":\"3469\"},{\"id\":\"3769\"},{\"id\":\"3772\"},{\"id\":\"3684\"},{\"id\":\"3685\"},{\"id\":\"3686\"},{\"id\":\"3687\"},{\"id\":\"3688\"},{\"id\":\"3689\"},{\"id\":\"3690\"},{\"id\":\"3706\"},{\"id\":\"3772\"}]},\"id\":\"3832\",\"type\":\"ProxyToolbar\"},{\"attributes\":{\"line_alpha\":0.1,\"line_color\":\"#ff7f0e\",\"line_width\":1.3,\"x\":{\"field\":\"index\"},\"y\":{\"field\":\"SMA(C,38)_1_1\"}},\"id\":\"3755\",\"type\":\"Line\"},{\"attributes\":{},\"id\":\"3456\",\"type\":\"BasicTicker\"},{\"attributes\":{},\"id\":\"3733\",\"type\":\"Selection\"},{\"attributes\":{},\"id\":\"3545\",\"type\":\"Selection\"},{\"attributes\":{\"data_source\":{\"id\":\"3480\"},\"glyph\":{\"id\":\"3658\"},\"hover_glyph\":null,\"muted_glyph\":null,\"nonselection_glyph\":{\"id\":\"3659\"},\"selection_glyph\":null,\"view\":{\"id\":\"3661\"}},\"id\":\"3660\",\"type\":\"GlyphRenderer\"},{\"attributes\":{\"active_drag\":{\"id\":\"3684\"},\"active_inspect\":\"auto\",\"active_multi\":null,\"active_scroll\":{\"id\":\"3685\"},\"active_tap\":\"auto\",\"tools\":[{\"id\":\"3684\"},{\"id\":\"3685\"},{\"id\":\"3686\"},{\"id\":\"3687\"},{\"id\":\"3688\"},{\"id\":\"3689\"},{\"id\":\"3690\"},{\"id\":\"3706\"},{\"id\":\"3772\"}]},\"id\":\"3692\",\"type\":\"Toolbar\"},{\"attributes\":{\"data\":{},\"selected\":{\"id\":\"3592\"},\"selection_policy\":{\"id\":\"3591\"}},\"id\":\"3573\",\"type\":\"ColumnDataSource\"},{\"attributes\":{\"bottom_units\":\"screen\",\"fill_alpha\":0.5,\"fill_color\":\"lightgrey\",\"left_units\":\"screen\",\"level\":\"overlay\",\"line_alpha\":1.0,\"line_color\":\"black\",\"line_dash\":[4,4],\"line_width\":2,\"right_units\":\"screen\",\"top_units\":\"screen\"},\"id\":\"3510\",\"type\":\"BoxAnnotation\"},{\"attributes\":{\"format\":\"0.[00]%\"},\"id\":\"3666\",\"type\":\"NumeralTickFormatter\"},{\"attributes\":{},\"id\":\"3729\",\"type\":\"BasicTickFormatter\"},{\"attributes\":{\"data_source\":{\"id\":\"3534\"},\"glyph\":{\"id\":\"3535\"},\"hover_glyph\":null,\"muted_glyph\":null,\"nonselection_glyph\":{\"id\":\"3536\"},\"selection_glyph\":null,\"view\":{\"id\":\"3538\"}},\"id\":\"3537\",\"type\":\"GlyphRenderer\"},{\"attributes\":{\"fill_alpha\":{\"value\":0.1},\"fill_color\":{\"field\":\"inc\",\"transform\":{\"id\":\"3481\"}},\"line_alpha\":{\"value\":0.1},\"line_color\":{\"field\":\"inc\",\"transform\":{\"id\":\"3481\"}},\"top\":{\"field\":\"Volume\"},\"width\":{\"value\":0.8},\"x\":{\"field\":\"index\"}},\"id\":\"3703\",\"type\":\"VBar\"},{\"attributes\":{\"below\":[{\"id\":\"3676\"}],\"center\":[{\"id\":\"3679\"},{\"id\":\"3683\"}],\"left\":[{\"id\":\"3680\"}],\"min_border_bottom\":6,\"min_border_left\":0,\"min_border_right\":10,\"min_border_top\":3,\"outline_line_color\":\"#666666\",\"plot_height\":90,\"plot_width\":null,\"renderers\":[{\"id\":\"3704\"}],\"sizing_mode\":\"stretch_width\",\"title\":{\"id\":\"3822\"},\"toolbar\":{\"id\":\"3692\"},\"toolbar_location\":null,\"x_range\":{\"id\":\"3446\"},\"x_scale\":{\"id\":\"3672\"},\"y_range\":{\"id\":\"3670\"},\"y_scale\":{\"id\":\"3674\"}},\"id\":\"3668\",\"subtype\":\"Figure\",\"type\":\"Plot\"},{\"attributes\":{},\"id\":\"3690\",\"type\":\"SaveTool\"},{\"attributes\":{\"data_source\":{\"id\":\"3479\"},\"glyph\":{\"id\":\"3754\"},\"hover_glyph\":null,\"muted_glyph\":null,\"nonselection_glyph\":{\"id\":\"3755\"},\"selection_glyph\":null,\"view\":{\"id\":\"3757\"}},\"id\":\"3756\",\"type\":\"GlyphRenderer\"},{\"attributes\":{},\"id\":\"3542\",\"type\":\"BasicTickFormatter\"},{\"attributes\":{},\"id\":\"3689\",\"type\":\"ResetTool\"},{\"attributes\":{\"fill_color\":{\"field\":\"returns_positive\",\"transform\":{\"id\":\"3482\"}},\"marker\":{\"value\":\"inverted_triangle\"},\"size\":{\"field\":\"marker_size\",\"units\":\"screen\"},\"x\":{\"field\":\"index\"},\"y\":{\"field\":\"returns_short\"}},\"id\":\"3658\",\"type\":\"Scatter\"},{\"attributes\":{},\"id\":\"3803\",\"type\":\"BasicTickFormatter\"},{\"attributes\":{\"source\":{\"id\":\"3479\"}},\"id\":\"3719\",\"type\":\"CDSView\"},{\"attributes\":{\"text\":\"\"},\"id\":\"3822\",\"type\":\"Title\"},{\"attributes\":{},\"id\":\"3500\",\"type\":\"BasicTicker\"},{\"attributes\":{\"bounds\":[-10.0,210.0],\"end\":200,\"js_property_callbacks\":{\"change:end\":[{\"id\":\"3771\"}]},\"min_interval\":10},\"id\":\"3446\",\"type\":\"Range1d\"},{\"attributes\":{\"label\":{\"value\":\"Trades (3)\"},\"renderers\":[{\"id\":\"3723\"}]},\"id\":\"3736\",\"type\":\"LegendItem\"},{\"attributes\":{\"data_source\":{\"id\":\"3573\"},\"glyph\":{\"id\":\"3574\"},\"hover_glyph\":null,\"muted_glyph\":null,\"nonselection_glyph\":{\"id\":\"3575\"},\"selection_glyph\":null,\"view\":{\"id\":\"3577\"}},\"id\":\"3576\",\"type\":\"GlyphRenderer\"},{\"attributes\":{},\"id\":\"3453\",\"type\":\"LinearScale\"},{\"attributes\":{\"line_alpha\":{\"value\":0.1},\"line_color\":{\"field\":\"returns_positive\",\"transform\":{\"id\":\"3483\"}},\"line_dash\":[2,4],\"line_width\":{\"value\":8},\"xs\":{\"field\":\"position_lines_xs\"},\"ys\":{\"field\":\"position_lines_ys\"}},\"id\":\"3722\",\"type\":\"MultiLine\"},{\"attributes\":{\"dimensions\":\"width\",\"maintain_focus\":false},\"id\":\"3464\",\"type\":\"WheelZoomTool\"},{\"attributes\":{\"axis_label\":\"Volume\",\"formatter\":{\"id\":\"3708\"},\"minor_tick_line_color\":null,\"ticker\":{\"id\":\"3681\"}},\"id\":\"3680\",\"type\":\"LinearAxis\"},{\"attributes\":{\"args\":{\"axis\":{\"id\":\"3455\"},\"formatter\":{\"id\":\"3484\"},\"source\":{\"id\":\"3479\"}},\"code\":\"\\nthis.labels = this.labels || formatter.doFormat(ticks\\n                                                .map(i => source.data.datetime[i])\\n                                                .filter(t => t !== undefined));\\nreturn this.labels[index] || \\\"\\\";\\n        \"},\"id\":\"3485\",\"type\":\"FuncTickFormatter\"},{\"attributes\":{\"source\":{\"id\":\"3479\"}},\"id\":\"3714\",\"type\":\"CDSView\"},{\"attributes\":{},\"id\":\"3449\",\"type\":\"DataRange1d\"},{\"attributes\":{\"bottom_units\":\"screen\",\"fill_alpha\":0.5,\"fill_color\":\"lightgrey\",\"left_units\":\"screen\",\"level\":\"overlay\",\"line_alpha\":1.0,\"line_color\":\"black\",\"line_dash\":[4,4],\"line_width\":2,\"right_units\":\"screen\",\"top_units\":\"screen\"},\"id\":\"3642\",\"type\":\"BoxAnnotation\"},{\"attributes\":{\"source\":{\"id\":\"3479\"}},\"id\":\"3757\",\"type\":\"CDSView\"},{\"attributes\":{},\"id\":\"3681\",\"type\":\"BasicTicker\"},{\"attributes\":{\"toolbar\":{\"id\":\"3832\"}},\"id\":\"3833\",\"type\":\"ToolbarBox\"},{\"attributes\":{\"data_source\":{\"id\":\"3519\"},\"glyph\":{\"id\":\"3521\"},\"hover_glyph\":null,\"muted_glyph\":null,\"nonselection_glyph\":{\"id\":\"3522\"},\"selection_glyph\":null,\"view\":{\"id\":\"3524\"}},\"id\":\"3523\",\"type\":\"GlyphRenderer\"},{\"attributes\":{\"border_line_color\":\"#333333\",\"click_policy\":\"hide\",\"items\":[{\"id\":\"3552\"},{\"id\":\"3572\"},{\"id\":\"3594\"},{\"id\":\"3618\"}],\"label_text_font_size\":\"8pt\",\"location\":\"top_left\",\"margin\":0,\"padding\":5,\"spacing\":0},\"id\":\"3551\",\"type\":\"Legend\"},{\"attributes\":{},\"id\":\"3688\",\"type\":\"RedoTool\"},{\"attributes\":{\"bottom\":{\"field\":\"Close\"},\"fill_color\":{\"field\":\"inc\",\"transform\":{\"id\":\"3481\"}},\"top\":{\"field\":\"Open\"},\"width\":{\"value\":0.8},\"x\":{\"field\":\"index\"}},\"id\":\"3716\",\"type\":\"VBar\"},{\"attributes\":{\"source\":{\"id\":\"3480\"}},\"id\":\"3724\",\"type\":\"CDSView\"},{\"attributes\":{\"callback\":null,\"formatters\":{\"@datetime\":\"datetime\"},\"point_policy\":\"follow_mouse\",\"renderers\":[{\"id\":\"3660\"}],\"tooltips\":[[\"Date\",\"@datetime{%c}\"],[\"Size\",\"@size{0,0}\"],[\"P/L\",\"@returns_short{+0.[000]%}\"]]},\"id\":\"3664\",\"type\":\"HoverTool\"},{\"attributes\":{},\"id\":\"3677\",\"type\":\"BasicTicker\"},{\"attributes\":{},\"id\":\"3732\",\"type\":\"UnionRenderers\"},{\"attributes\":{\"text\":\"\"},\"id\":\"3800\",\"type\":\"Title\"},{\"attributes\":{\"source\":{\"id\":\"3480\"}},\"id\":\"3656\",\"type\":\"CDSView\"},{\"attributes\":{\"source\":{\"id\":\"3480\"}},\"id\":\"3661\",\"type\":\"CDSView\"},{\"attributes\":{\"data_source\":{\"id\":\"3553\"},\"glyph\":{\"id\":\"3554\"},\"hover_glyph\":null,\"muted_glyph\":null,\"nonselection_glyph\":{\"id\":\"3555\"},\"selection_glyph\":null,\"view\":{\"id\":\"3557\"}},\"id\":\"3556\",\"type\":\"GlyphRenderer\"},{\"attributes\":{\"border_line_color\":\"#333333\",\"click_policy\":\"hide\",\"items\":[{\"id\":\"3736\"},{\"id\":\"3752\"},{\"id\":\"3768\"}],\"label_text_font_size\":\"8pt\",\"location\":\"top_left\",\"margin\":0,\"padding\":5,\"spacing\":0},\"id\":\"3735\",\"type\":\"Legend\"},{\"attributes\":{\"source\":{\"id\":\"3479\"}},\"id\":\"3705\",\"type\":\"CDSView\"},{\"attributes\":{\"bottom_units\":\"screen\",\"fill_alpha\":0.5,\"fill_color\":\"lightgrey\",\"left_units\":\"screen\",\"level\":\"overlay\",\"line_alpha\":1.0,\"line_color\":\"black\",\"line_dash\":[4,4],\"line_width\":2,\"right_units\":\"screen\",\"top_units\":\"screen\"},\"id\":\"3691\",\"type\":\"BoxAnnotation\"},{\"attributes\":{},\"id\":\"3672\",\"type\":\"LinearScale\"},{\"attributes\":{\"dimensions\":\"width\"},\"id\":\"3684\",\"type\":\"PanTool\"},{\"attributes\":{\"fill_alpha\":{\"value\":0.1},\"fill_color\":{\"field\":\"returns_positive\",\"transform\":{\"id\":\"3482\"}},\"line_alpha\":{\"value\":0.1},\"marker\":{\"value\":\"inverted_triangle\"},\"size\":{\"field\":\"marker_size\",\"units\":\"screen\"},\"x\":{\"field\":\"index\"},\"y\":{\"field\":\"returns_short\"}},\"id\":\"3659\",\"type\":\"Scatter\"},{\"attributes\":{\"source\":{\"id\":\"3534\"}},\"id\":\"3538\",\"type\":\"CDSView\"},{\"attributes\":{\"text\":\"\"},\"id\":\"3725\",\"type\":\"Title\"},{\"attributes\":{\"axis\":{\"id\":\"3459\"},\"dimension\":1,\"ticker\":null},\"id\":\"3462\",\"type\":\"Grid\"},{\"attributes\":{},\"id\":\"3489\",\"type\":\"DataRange1d\"},{\"attributes\":{\"formatter\":{\"id\":\"3542\"},\"ticker\":{\"id\":\"3496\"},\"visible\":false},\"id\":\"3495\",\"type\":\"LinearAxis\"},{\"attributes\":{\"fill_color\":{\"field\":\"returns_positive\",\"transform\":{\"id\":\"3482\"}},\"marker\":{\"value\":\"triangle\"},\"size\":{\"field\":\"marker_size\",\"units\":\"screen\"},\"x\":{\"field\":\"index\"},\"y\":{\"field\":\"returns_long\"}},\"id\":\"3653\",\"type\":\"Scatter\"},{\"attributes\":{\"dimensions\":\"width\"},\"id\":\"3463\",\"type\":\"PanTool\"},{\"attributes\":{\"line_alpha\":0.1,\"line_color\":\"#1f77b4\",\"line_width\":1.5,\"x\":{\"field\":\"index\"},\"y\":{\"field\":\"equity\"}},\"id\":\"3527\",\"type\":\"Line\"},{\"attributes\":{},\"id\":\"3467\",\"type\":\"RedoTool\"},{\"attributes\":{\"fill_color\":{\"field\":\"inc\",\"transform\":{\"id\":\"3481\"}},\"line_color\":{\"field\":\"inc\",\"transform\":{\"id\":\"3481\"}},\"top\":{\"field\":\"Volume\"},\"width\":{\"value\":0.8},\"x\":{\"field\":\"index\"}},\"id\":\"3702\",\"type\":\"VBar\"},{\"attributes\":{\"format\":\"0 a\"},\"id\":\"3708\",\"type\":\"NumeralTickFormatter\"},{\"attributes\":{\"axis\":{\"id\":\"3455\"},\"ticker\":null},\"id\":\"3458\",\"type\":\"Grid\"},{\"attributes\":{\"factors\":[\"0\",\"1\"],\"palette\":[\"tomato\",\"lime\"]},\"id\":\"3481\",\"type\":\"CategoricalColorMapper\"},{\"attributes\":{\"fill_alpha\":{\"value\":0.1},\"fill_color\":{\"value\":\"cyan\"},\"line_alpha\":{\"value\":0.1},\"line_color\":{\"value\":\"cyan\"},\"size\":{\"units\":\"screen\",\"value\":8},\"x\":{\"value\":191},\"y\":{\"value\":1.56709552}},\"id\":\"3536\",\"type\":\"Scatter\"},{\"attributes\":{},\"id\":\"3639\",\"type\":\"RedoTool\"},{\"attributes\":{\"data_source\":{\"id\":\"3480\"},\"glyph\":{\"id\":\"3653\"},\"hover_glyph\":null,\"muted_glyph\":null,\"nonselection_glyph\":{\"id\":\"3654\"},\"selection_glyph\":null,\"view\":{\"id\":\"3656\"}},\"id\":\"3655\",\"type\":\"GlyphRenderer\"},{\"attributes\":{\"data_source\":{\"id\":\"3479\"},\"glyph\":{\"id\":\"3702\"},\"hover_glyph\":null,\"muted_glyph\":null,\"nonselection_glyph\":{\"id\":\"3703\"},\"selection_glyph\":null,\"view\":{\"id\":\"3705\"}},\"id\":\"3704\",\"type\":\"GlyphRenderer\"},{\"attributes\":{},\"id\":\"3772\",\"type\":\"CrosshairTool\"},{\"attributes\":{\"args\":{\"ohlc_range\":{\"id\":\"3449\"},\"source\":{\"id\":\"3479\"},\"volume_range\":{\"id\":\"3670\"}},\"code\":\"if (!window._bt_scale_range) {\\n    window._bt_scale_range = function (range, min, max, pad) {\\n        \\\"use strict\\\";\\n        if (min !== Infinity && max !== -Infinity) {\\n            pad = pad ? (max - min) * .03 : 0;\\n            range.start = min - pad;\\n            range.end = max + pad;\\n        } else console.error('backtesting: scale range error:', min, max, range);\\n    };\\n}\\n\\nclearTimeout(window._bt_autoscale_timeout);\\n\\nwindow._bt_autoscale_timeout = setTimeout(function () {\\n    /**\\n     * @variable cb_obj `fig_ohlc.x_range`.\\n     * @variable source `ColumnDataSource`\\n     * @variable ohlc_range `fig_ohlc.y_range`.\\n     * @variable volume_range `fig_volume.y_range`.\\n     */\\n    \\\"use strict\\\";\\n\\n    let i = Math.max(Math.floor(cb_obj.start), 0),\\n        j = Math.min(Math.ceil(cb_obj.end), source.data['ohlc_high'].length);\\n\\n    let max = Math.max.apply(null, source.data['ohlc_high'].slice(i, j)),\\n        min = Math.min.apply(null, source.data['ohlc_low'].slice(i, j));\\n    _bt_scale_range(ohlc_range, min, max, true);\\n\\n    if (volume_range) {\\n        max = Math.max.apply(null, source.data['Volume'].slice(i, j));\\n        _bt_scale_range(volume_range, 0, max * 1.03, false);\\n    }\\n\\n}, 50);\\n\"},\"id\":\"3771\",\"type\":\"CustomJS\"},{\"attributes\":{\"line_alpha\":0.1,\"line_color\":\"#1f77b4\",\"line_width\":1.3,\"x\":{\"field\":\"index\"},\"y\":{\"field\":\"SMA(C,9)_0_1\"}},\"id\":\"3739\",\"type\":\"Line\"},{\"attributes\":{},\"id\":\"3460\",\"type\":\"BasicTicker\"},{\"attributes\":{\"text\":\"\"},\"id\":\"3539\",\"type\":\"Title\"},{\"attributes\":{\"data_source\":{\"id\":\"3479\"},\"glyph\":{\"id\":\"3716\"},\"hover_glyph\":null,\"muted_glyph\":null,\"nonselection_glyph\":{\"id\":\"3717\"},\"selection_glyph\":null,\"view\":{\"id\":\"3719\"}},\"id\":\"3718\",\"type\":\"GlyphRenderer\"},{\"attributes\":{\"source\":{\"id\":\"3479\"}},\"id\":\"3741\",\"type\":\"CDSView\"},{\"attributes\":{\"formatter\":{\"id\":\"3485\"},\"ticker\":{\"id\":\"3456\"},\"visible\":false},\"id\":\"3455\",\"type\":\"LinearAxis\"},{\"attributes\":{\"line_color\":{\"field\":\"returns_positive\",\"transform\":{\"id\":\"3483\"}},\"line_dash\":[2,4],\"line_width\":{\"value\":8},\"xs\":{\"field\":\"position_lines_xs\"},\"ys\":{\"field\":\"position_lines_ys\"}},\"id\":\"3721\",\"type\":\"MultiLine\"},{\"attributes\":{\"label\":{\"value\":\"SMA(C,9)\"},\"renderers\":[{\"id\":\"3740\"}]},\"id\":\"3752\",\"type\":\"LegendItem\"},{\"attributes\":{},\"id\":\"3466\",\"type\":\"UndoTool\"},{\"attributes\":{\"fill_color\":\"#ffffea\",\"line_color\":\"#ffcb66\",\"x\":{\"field\":\"index\"},\"y\":{\"field\":\"equity_dd\"}},\"id\":\"3521\",\"type\":\"Patch\"},{\"attributes\":{},\"id\":\"3570\",\"type\":\"Selection\"},{\"attributes\":{\"data_source\":{\"id\":\"3479\"},\"glyph\":{\"id\":\"3738\"},\"hover_glyph\":null,\"muted_glyph\":null,\"nonselection_glyph\":{\"id\":\"3739\"},\"selection_glyph\":null,\"view\":{\"id\":\"3741\"}},\"id\":\"3740\",\"type\":\"GlyphRenderer\"},{\"attributes\":{\"fill_color\":{\"value\":\"cyan\"},\"line_color\":{\"value\":\"cyan\"},\"size\":{\"units\":\"screen\",\"value\":8},\"x\":{\"value\":191},\"y\":{\"value\":1.56709552}},\"id\":\"3535\",\"type\":\"Scatter\"},{\"attributes\":{\"below\":[{\"id\":\"3455\"}],\"center\":[{\"id\":\"3458\"},{\"id\":\"3462\"},{\"id\":\"3735\"}],\"left\":[{\"id\":\"3459\"}],\"min_border_bottom\":6,\"min_border_left\":0,\"min_border_right\":10,\"min_border_top\":3,\"outline_line_color\":\"#666666\",\"plot_height\":400,\"plot_width\":null,\"renderers\":[{\"id\":\"3713\"},{\"id\":\"3718\"},{\"id\":\"3723\"},{\"id\":\"3740\"},{\"id\":\"3756\"}],\"sizing_mode\":\"stretch_width\",\"title\":{\"id\":\"3725\"},\"toolbar\":{\"id\":\"3471\"},\"toolbar_location\":null,\"x_range\":{\"id\":\"3446\"},\"x_scale\":{\"id\":\"3451\"},\"y_range\":{\"id\":\"3449\"},\"y_scale\":{\"id\":\"3453\"}},\"id\":\"3447\",\"subtype\":\"Figure\",\"type\":\"Plot\"},{\"attributes\":{},\"id\":\"3670\",\"type\":\"DataRange1d\"},{\"attributes\":{\"bottom\":{\"field\":\"Close\"},\"fill_alpha\":{\"value\":0.1},\"fill_color\":{\"field\":\"inc\",\"transform\":{\"id\":\"3481\"}},\"line_alpha\":{\"value\":0.1},\"top\":{\"field\":\"Open\"},\"width\":{\"value\":0.8},\"x\":{\"field\":\"index\"}},\"id\":\"3717\",\"type\":\"VBar\"},{\"attributes\":{\"below\":[{\"id\":\"3495\"}],\"center\":[{\"id\":\"3498\"},{\"id\":\"3502\"},{\"id\":\"3551\"}],\"left\":[{\"id\":\"3499\"}],\"min_border_bottom\":6,\"min_border_left\":0,\"min_border_right\":10,\"min_border_top\":3,\"outline_line_color\":\"#666666\",\"plot_height\":110,\"plot_width\":null,\"renderers\":[{\"id\":\"3523\"},{\"id\":\"3528\"},{\"id\":\"3537\"},{\"id\":\"3556\"},{\"id\":\"3576\"},{\"id\":\"3598\"}],\"sizing_mode\":\"stretch_width\",\"title\":{\"id\":\"3539\"},\"toolbar\":{\"id\":\"3511\"},\"toolbar_location\":null,\"x_range\":{\"id\":\"3446\"},\"x_scale\":{\"id\":\"3491\"},\"y_range\":{\"id\":\"3489\"},\"y_scale\":{\"id\":\"3493\"}},\"id\":\"3487\",\"subtype\":\"Figure\",\"type\":\"Plot\"},{\"attributes\":{\"fill_alpha\":{\"value\":0.1},\"fill_color\":{\"value\":\"red\"},\"line_alpha\":{\"value\":0.1},\"line_color\":{\"value\":\"red\"},\"size\":{\"units\":\"screen\",\"value\":8},\"x\":{\"value\":112},\"y\":{\"value\":1.2273630400000002}},\"id\":\"3575\",\"type\":\"Scatter\"},{\"attributes\":{},\"id\":\"3569\",\"type\":\"UnionRenderers\"},{\"attributes\":{},\"id\":\"3592\",\"type\":\"Selection\"},{\"attributes\":{\"callback\":null,\"formatters\":{\"@datetime\":\"datetime\"},\"mode\":\"vline\",\"point_policy\":\"follow_mouse\",\"renderers\":[{\"id\":\"3528\"}],\"tooltips\":[[\"Date\",\"@datetime{%c}\"],[\"Equity\",\"@equity{+0,0.[000]%}\"]]},\"id\":\"3530\",\"type\":\"HoverTool\"},{\"attributes\":{},\"id\":\"3623\",\"type\":\"LinearScale\"},{\"attributes\":{},\"id\":\"3548\",\"type\":\"UnionRenderers\"},{\"attributes\":{},\"id\":\"3508\",\"type\":\"ResetTool\"},{\"attributes\":{},\"id\":\"3546\",\"type\":\"UnionRenderers\"},{\"attributes\":{\"fill_color\":{\"value\":\"blue\"},\"line_color\":{\"value\":\"blue\"},\"size\":{\"units\":\"screen\",\"value\":8},\"x\":{\"value\":200},\"y\":{\"value\":1.4635355200000002}},\"id\":\"3554\",\"type\":\"Scatter\"},{\"attributes\":{\"data\":{},\"selected\":{\"id\":\"3570\"},\"selection_policy\":{\"id\":\"3569\"}},\"id\":\"3553\",\"type\":\"ColumnDataSource\"},{\"attributes\":{},\"id\":\"3628\",\"type\":\"BasicTicker\"},{\"attributes\":{\"formatter\":{\"id\":\"3803\"},\"ticker\":{\"id\":\"3628\"},\"visible\":false},\"id\":\"3627\",\"type\":\"LinearAxis\"},{\"attributes\":{},\"id\":\"3506\",\"type\":\"UndoTool\"},{\"attributes\":{},\"id\":\"3544\",\"type\":\"UnionRenderers\"},{\"attributes\":{\"data_source\":{\"id\":\"3479\"},\"glyph\":{\"id\":\"3711\"},\"hover_glyph\":null,\"muted_glyph\":null,\"nonselection_glyph\":{\"id\":\"3712\"},\"selection_glyph\":null,\"view\":{\"id\":\"3714\"}},\"id\":\"3713\",\"type\":\"GlyphRenderer\"},{\"attributes\":{\"source\":{\"id\":\"3479\"}},\"id\":\"3529\",\"type\":\"CDSView\"},{\"attributes\":{},\"id\":\"3591\",\"type\":\"UnionRenderers\"},{\"attributes\":{},\"id\":\"3549\",\"type\":\"Selection\"},{\"attributes\":{},\"id\":\"3616\",\"type\":\"Selection\"},{\"attributes\":{\"fill_alpha\":0.1,\"fill_color\":\"#ffffea\",\"line_alpha\":0.1,\"line_color\":\"#ffcb66\",\"x\":{\"field\":\"index\"},\"y\":{\"field\":\"equity_dd\"}},\"id\":\"3522\",\"type\":\"Patch\"},{\"attributes\":{\"label\":{\"value\":\"Max Dd Dur. (1 days 10:00:00)\"},\"renderers\":[{\"id\":\"3598\"}]},\"id\":\"3618\",\"type\":\"LegendItem\"},{\"attributes\":{\"line_color\":\"#666666\",\"line_dash\":[6],\"location\":0},\"id\":\"3651\",\"type\":\"Span\"},{\"attributes\":{},\"id\":\"3641\",\"type\":\"SaveTool\"},{\"attributes\":{\"axis\":{\"id\":\"3627\"},\"ticker\":null},\"id\":\"3630\",\"type\":\"Grid\"},{\"attributes\":{\"label\":{\"value\":\"Max Drawdown (-12.4%)\"},\"renderers\":[{\"id\":\"3576\"}]},\"id\":\"3594\",\"type\":\"LegendItem\"},{\"attributes\":{},\"id\":\"3625\",\"type\":\"LinearScale\"},{\"attributes\":{\"axis\":{\"id\":\"3631\"},\"dimension\":1,\"ticker\":null},\"id\":\"3634\",\"type\":\"Grid\"},{\"attributes\":{\"label\":{\"value\":\"Final (146%)\"},\"renderers\":[{\"id\":\"3556\"}]},\"id\":\"3572\",\"type\":\"LegendItem\"},{\"attributes\":{\"data_source\":{\"id\":\"3479\"},\"glyph\":{\"id\":\"3526\"},\"hover_glyph\":null,\"muted_glyph\":null,\"nonselection_glyph\":{\"id\":\"3527\"},\"selection_glyph\":null,\"view\":{\"id\":\"3529\"}},\"id\":\"3528\",\"type\":\"GlyphRenderer\"},{\"attributes\":{},\"id\":\"3496\",\"type\":\"BasicTicker\"},{\"attributes\":{\"bottom_units\":\"screen\",\"fill_alpha\":0.5,\"fill_color\":\"lightgrey\",\"left_units\":\"screen\",\"level\":\"overlay\",\"line_alpha\":1.0,\"line_color\":\"black\",\"line_dash\":[4,4],\"line_width\":2,\"right_units\":\"screen\",\"top_units\":\"screen\"},\"id\":\"3470\",\"type\":\"BoxAnnotation\"},{\"attributes\":{},\"id\":\"3640\",\"type\":\"ResetTool\"},{\"attributes\":{\"line_color\":\"red\",\"line_width\":2,\"x\":{\"field\":\"x\"},\"y\":{\"value\":1.4080350400000001}},\"id\":\"3596\",\"type\":\"Line\"},{\"attributes\":{\"data\":{\"x\":[127,160.5800897334389]},\"selected\":{\"id\":\"3616\"},\"selection_policy\":{\"id\":\"3615\"}},\"id\":\"3595\",\"type\":\"ColumnDataSource\"},{\"attributes\":{\"data\":{\"datetime\":{\"__ndarray__\":\"y28ZGxxtd0LLb9FnJm13QstvSffwbXdC\",\"dtype\":\"float64\",\"order\":\"little\",\"shape\":[3]},\"exit_price\":{\"__ndarray__\":\"KVyPwvVKkEAfhetRuGSQQMP1KFyPhpJA\",\"dtype\":\"float64\",\"order\":\"little\",\"shape\":[3]},\"index\":[138,141,200],\"marker_size\":{\"__ndarray__\":\"AAAAAAAANEAAAAAAAAA0QAAAAAAAADRA\",\"dtype\":\"float64\",\"order\":\"little\",\"shape\":[3]},\"position_lines_xs\":[[68,138],[138,141],[141,200]],\"position_lines_ys\":[[776.0207999999999,1042.74],[1037.5263,1049.18],[1054.4259,1185.64]],\"returns_long\":{\"__ndarray__\":\"6HRz4jL/1T8AAAAAAAD4f8DWlxhi278/\",\"dtype\":\"float64\",\"order\":\"little\",\"shape\":[3]},\"returns_positive\":[\"1\",\"0\",\"1\"],\"returns_short\":{\"__ndarray__\":\"AAAAAAAA+H8A1wf95wCHvwAAAAAAAPh/\",\"dtype\":\"float64\",\"order\":\"little\",\"shape\":[3]},\"size\":[12,-12,12]},\"selected\":{\"id\":\"3733\"},\"selection_policy\":{\"id\":\"3732\"}},\"id\":\"3480\",\"type\":\"ColumnDataSource\"},{\"attributes\":{},\"id\":\"3493\",\"type\":\"LinearScale\"},{\"attributes\":{\"line_color\":\"#1f77b4\",\"line_width\":1.5,\"x\":{\"field\":\"index\"},\"y\":{\"field\":\"equity\"}},\"id\":\"3526\",\"type\":\"Line\"},{\"attributes\":{\"fill_alpha\":{\"value\":0.1},\"fill_color\":{\"field\":\"returns_positive\",\"transform\":{\"id\":\"3482\"}},\"line_alpha\":{\"value\":0.1},\"marker\":{\"value\":\"triangle\"},\"size\":{\"field\":\"marker_size\",\"units\":\"screen\"},\"x\":{\"field\":\"index\"},\"y\":{\"field\":\"returns_long\"}},\"id\":\"3654\",\"type\":\"Scatter\"},{\"attributes\":{\"callback\":null,\"formatters\":{\"@datetime\":\"datetime\"},\"mode\":\"vline\",\"point_policy\":\"follow_mouse\",\"renderers\":[{\"id\":\"3718\"}],\"tooltips\":[[\"Date\",\"@datetime{%c}\"],[\"x, y\",\"$index\\u00a0\\u00a0\\u00a0\\u00a0$y{0,0.0[0000]}\"],[\"OHLC\",\"@Open{0,0.0[0000]}\\u00a0\\u00a0\\u00a0\\u00a0@High{0,0.0[0000]}\\u00a0\\u00a0\\u00a0\\u00a0@Low{0,0.0[0000]}\\u00a0\\u00a0\\u00a0\\u00a0@Close{0,0.0[0000]}\"],[\"Volume\",\"@Volume{0,0}\"],[\"SMA(C,9)\",\"@{SMA(C,9)_0_1}{0,0.0[0000]}\"],[\"SMA(C,38)\",\"@{SMA(C,38)_1_1}{0,0.0[0000]}\"]]},\"id\":\"3769\",\"type\":\"HoverTool\"},{\"attributes\":{\"axis_label\":\"Equity\",\"formatter\":{\"id\":\"3532\"},\"minor_tick_line_color\":null,\"ticker\":{\"id\":\"3500\"}},\"id\":\"3499\",\"type\":\"LinearAxis\"},{\"attributes\":{},\"id\":\"3638\",\"type\":\"UndoTool\"},{\"attributes\":{\"source\":{\"id\":\"3595\"}},\"id\":\"3599\",\"type\":\"CDSView\"},{\"attributes\":{\"dimensions\":\"width\"},\"id\":\"3635\",\"type\":\"PanTool\"},{\"attributes\":{\"children\":[[{\"id\":\"3487\"},0,0],[{\"id\":\"3619\"},1,0],[{\"id\":\"3447\"},2,0],[{\"id\":\"3668\"},3,0]]},\"id\":\"3831\",\"type\":\"GridBox\"},{\"attributes\":{\"label\":{\"value\":\"Peak (157%)\"},\"renderers\":[{\"id\":\"3537\"}]},\"id\":\"3552\",\"type\":\"LegendItem\"},{\"attributes\":{\"line_alpha\":{\"value\":0.1},\"x0\":{\"field\":\"index\"},\"x1\":{\"field\":\"index\"},\"y0\":{\"field\":\"High\"},\"y1\":{\"field\":\"Low\"}},\"id\":\"3712\",\"type\":\"Segment\"},{\"attributes\":{\"below\":[{\"id\":\"3627\"}],\"center\":[{\"id\":\"3630\"},{\"id\":\"3634\"},{\"id\":\"3651\"}],\"left\":[{\"id\":\"3631\"}],\"min_border_bottom\":6,\"min_border_left\":0,\"min_border_right\":10,\"min_border_top\":3,\"outline_line_color\":\"#666666\",\"plot_height\":90,\"plot_width\":null,\"renderers\":[{\"id\":\"3655\"},{\"id\":\"3660\"}],\"sizing_mode\":\"stretch_width\",\"title\":{\"id\":\"3800\"},\"toolbar\":{\"id\":\"3643\"},\"toolbar_location\":null,\"x_range\":{\"id\":\"3446\"},\"x_scale\":{\"id\":\"3623\"},\"y_range\":{\"id\":\"3621\"},\"y_scale\":{\"id\":\"3625\"}},\"id\":\"3619\",\"subtype\":\"Figure\",\"type\":\"Plot\"},{\"attributes\":{},\"id\":\"3468\",\"type\":\"ResetTool\"},{\"attributes\":{\"active_drag\":{\"id\":\"3503\"},\"active_inspect\":\"auto\",\"active_multi\":null,\"active_scroll\":{\"id\":\"3504\"},\"active_tap\":\"auto\",\"tools\":[{\"id\":\"3503\"},{\"id\":\"3504\"},{\"id\":\"3505\"},{\"id\":\"3506\"},{\"id\":\"3507\"},{\"id\":\"3508\"},{\"id\":\"3509\"},{\"id\":\"3530\"},{\"id\":\"3772\"}]},\"id\":\"3511\",\"type\":\"Toolbar\"},{\"attributes\":{\"data\":{\"equity_dd\":{\"__ndarray__\":\"AAAAAAAA8D8AAAAAAADwPwAAAAAAAPA/AAAAAAAA8D8AAAAAAADwPwAAAAAAAPA/AAAAAAAA8D8AAAAAAADwPwAAAAAAAPA/AAAAAAAA8D8AAAAAAADwPwAAAAAAAPA/AAAAAAAA8D8AAAAAAADwPwAAAAAAAPA/AAAAAAAA8D8AAAAAAADwPwAAAAAAAPA/AAAAAAAA8D8AAAAAAADwPwAAAAAAAPA/AAAAAAAA8D8AAAAAAADwPwAAAAAAAPA/AAAAAAAA8D8AAAAAAADwPwAAAAAAAPA/AAAAAAAA8D8AAAAAAADwPwAAAAAAAPA/AAAAAAAA8D8AAAAAAADwPwAAAAAAAPA/AAAAAAAA8D8AAAAAAADwPwAAAAAAAPA/AAAAAAAA8D8AAAAAAADwPwAAAAAAAPA/AAAAAAAA8D8AAAAAAADwPwAAAAAAAPA/AAAAAAAA8D8AAAAAAADwPwAAAAAAAPA/AAAAAAAA8D8AAAAAAADwPwAAAAAAAPA/AAAAAAAA8D8AAAAAAADwPwAAAAAAAPA/AAAAAAAA8D8AAAAAAADwPwAAAAAAAPA/AAAAAAAA8D8AAAAAAADwPwAAAAAAAPA/AAAAAAAA8D8AAAAAAADwPwAAAAAAAPA/AAAAAAAA8D8AAAAAAADwPwAAAAAAAPA/AAAAAAAA8D8AAAAAAADwPwAAAAAAAPA/AAAAAAAA8D8AAAAAAADwP/cuIKytde8/itBKUoDF7z8k7Wct3CTwP8dl/eIpFvA/TI5cs2wY8D+7t0M/KjDwPy8+R9xKTO8/7OW5tp6+7z85LiXD2N/vP+vrO7e3+O8/Y71yOTUC8D82W5rX6AfwP85VFCt6EvA/tTbPCYjm7z8e+g9lfwvwP0kxYbDyNvA/j4z29Oh48D+g/WkfAnnwP23jcGIfz/A/dNTyfx7V8D9ZFm0KO/fwP4kLYbFdDPE/RnicHusU8T+txF05UujxP6+YMuwHp/I/HGLd9D7A8j+5VMY7lxTzPxDqQ5ObE/M/KBJtQ5y58j8HYvraCszyPyrhKsvnR/M/TyUkTv5Z8z/thLjuvSr0P9XsomRJ6/M/3juLWnHc8z9fz/g6gLDzP5ypMZ2t7vM/sVCMqGC/9D+YwqR0wOD0P6ngEZFx9/U/HzTc/JZr9j9eh4tYmzH1P15L6RUmvvQ/Qn5XgMa38z8A6FFtR6PzPyMw90UZ3PM/Vile4TSv9D+5O4zFRov0PyxjZEXkJvU/WvRvE8UW9T/tvRmxJoH0P+RnROU2TPQ/90BMPk2Y9D/k3bK/wx/1PzMX2Uq/r/Q/uAitA/du9D851BDRv4/0Py6Sl7F4HPU/iGN+6i8m9j+6wAbAT4f2P6PsTvNl1PU/I20EXj1Z9D/uutgwGmT0P1kaGWD2HfQ/R+ayTQGb9D8pXoZ7PF/0P0bsNE4a1fQ/UqHbx+H+9D/Z9SyErNn0P11VF2z6HvU/IIyOmmVF9T86UJYQYl31P2MWkKyy5fQ/VEOP1iDl9D/i8syJRSX1P7j4iFb2dvU/KUyMI95T9T9W6gbIn8H1Pw6XyS4gzfU/Fn+Iy/l79T/z2hlkmgL2PwC3m55/1PU/sQcHOfdw9T9oTgsc2EP1P4yTb3SdX/U/AXqOhltX9T9wGHkX9zj2P5aBd7DN3/U/D/9dXR0Z9j/nKLRq3/X1P2ViZ8iABfY/ht6PmRPN9T+DtkkDRxv2PwTymaqD1fY/+AxV73is9j8jO+O5xoD2P9YlV2/ce/Y/1ypumkas9j8e7pcNOjr3PxqYieCHnPc/qUDaveSY9z9onWXUhAb3PxvLaKLXuPc/lmmoDyxg9z+tmSlro1P3P9XbE+KZ6fc/dMGNUhHA9z+1JR9578H3P4PQ7k5Grvc/cGg+pVIF+D+66xmAFfn3PxhwQ0q76vc/OR11MkC79z9IJ78DC3n3P/tG6CXOo/c/mjUlF2vR9z/QrYSsdmb3PyGMTH6Tv/c/+Cb6Ong/+D+prYUXTBX4PzTJPLDrMPg/XQlRfISz+D+WU68Z6PP4P9a6gcDSEvk/5SJry4gk+D9eAI77Xlz4PwB/pbHFh/g/7LN3BD/D+D+4+8nWApT4P3q9qJuTMPg/sVt4HA5k9z8e8644pGr3Px7zrjikavc/1rqBwNIS+T/WuoHA0hL5P9a6gcDSEvk/1rqBwNIS+T/WuoHA0hL5P9a6gcDSEvk/1rqBwNIS+T/WuoHA0hL5P9a6gcDSEvk/1rqBwNIS+T+WU68Z6PP4P10JUXyEs/g/+Cb6Ong/+D/4Jvo6eD/4P/gm+jp4P/g/cGg+pVIF+D9waD6lUgX4P3BoPqVSBfg/cGg+pVIF+D9waD6lUgX4P3BoPqVSBfg/cGg+pVIF+D9waD6lUgX4P3BoPqVSBfg/1dsT4pnp9z/V2xPimen3P9XbE+KZ6fc/1dsT4pnp9z8by2ii17j3PxvLaKLXuPc/G8toote49z8amIngh5z3PxqYieCHnPc/GpiJ4Iec9z8e7pcNOjr3PwTymaqD1fY/BPKZqoPV9j8E8pmqg9X2PwTymaqD1fY/BPKZqoPV9j+6wAbAT4f2P7rABsBPh/Y/usAGwE+H9j+6wAbAT4f2P7rABsBPh/Y/usAGwE+H9j+6wAbAT4f2P7rABsBPh/Y/usAGwE+H9j+6wAbAT4f2P7rABsBPh/Y/usAGwE+H9j+6wAbAT4f2P7rABsBPh/Y/usAGwE+H9j+6wAbAT4f2P7rABsBPh/Y/usAGwE+H9j+6wAbAT4f2P7rABsBPh/Y/usAGwE+H9j+6wAbAT4f2P7rABsBPh/Y/usAGwE+H9j+6wAbAT4f2P7rABsBPh/Y/usAGwE+H9j+6wAbAT4f2P7rABsBPh/Y/usAGwE+H9j+6wAbAT4f2P7rABsBPh/Y/usAGwE+H9j+6wAbAT4f2Px803PyWa/Y/HzTc/JZr9j8fNNz8lmv2Px803PyWa/Y/HzTc/JZr9j8fNNz8lmv2Px803PyWa/Y/HzTc/JZr9j8fNNz8lmv2Px803PyWa/Y/HzTc/JZr9j8fNNz8lmv2Px803PyWa/Y/HzTc/JZr9j8fNNz8lmv2Px803PyWa/Y/HzTc/JZr9j8fNNz8lmv2Px803PyWa/Y/qeARkXH39T+YwqR0wOD0P7FQjKhgv/Q/7YS47r0q9D/thLjuvSr0P+2EuO69KvQ/7YS47r0q9D/thLjuvSr0P08lJE7+WfM/KuEqy+dH8z+5VMY7lxTzP7lUxjuXFPM/uVTGO5cU8z+5VMY7lxTzPxxi3fQ+wPI/r5gy7Aen8j+txF05UujxP0Z4nB7rFPE/iQthsV0M8T9ZFm0KO/fwP3TU8n8e1fA/beNwYh/P8D+g/WkfAnnwP4+M9vToePA/STFhsPI28D+7t0M/KjDwP7u3Qz8qMPA/u7dDPyow8D+7t0M/KjDwP7u3Qz8qMPA/u7dDPyow8D+7t0M/KjDwP7u3Qz8qMPA/u7dDPyow8D+7t0M/KjDwPyTtZy3cJPA/JO1nLdwk8D8k7Wct3CTwPwAAAAAAAPA/AAAAAAAA8D8AAAAAAADwPwAAAAAAAPA/AAAAAAAA8D8AAAAAAADwPwAAAAAAAPA/AAAAAAAA8D8AAAAAAADwPwAAAAAAAPA/AAAAAAAA8D8AAAAAAADwPwAAAAAAAPA/AAAAAAAA8D8AAAAAAADwPwAAAAAAAPA/AAAAAAAA8D8AAAAAAADwPwAAAAAAAPA/AAAAAAAA8D8AAAAAAADwPwAAAAAAAPA/AAAAAAAA8D8AAAAAAADwPwAAAAAAAPA/AAAAAAAA8D8AAAAAAADwPwAAAAAAAPA/AAAAAAAA8D8AAAAAAADwPwAAAAAAAPA/AAAAAAAA8D8AAAAAAADwPwAAAAAAAPA/AAAAAAAA8D8AAAAAAADwPwAAAAAAAPA/AAAAAAAA8D8AAAAAAADwPwAAAAAAAPA/AAAAAAAA8D8AAAAAAADwPwAAAAAAAPA/AAAAAAAA8D8AAAAAAADwPwAAAAAAAPA/AAAAAAAA8D8AAAAAAADwPwAAAAAAAPA/AAAAAAAA8D8AAAAAAADwPwAAAAAAAPA/AAAAAAAA8D8AAAAAAADwPwAAAAAAAPA/AAAAAAAA8D8AAAAAAADwPwAAAAAAAPA/AAAAAAAA8D8AAAAAAADwPwAAAAAAAPA/AAAAAAAA8D8AAAAAAADwPwAAAAAAAPA/AAAAAAAA8D8AAAAAAADwPwAAAAAAAPA/AAAAAAAA8D8AAAAAAADwPwAAAAAAAPA/\",\"dtype\":\"float64\",\"order\":\"little\",\"shape\":[402]},\"index\":[0,1,2,3,4,5,6,7,8,9,10,11,12,13,14,15,16,17,18,19,20,21,22,23,24,25,26,27,28,29,30,31,32,33,34,35,36,37,38,39,40,41,42,43,44,45,46,47,48,49,50,51,52,53,54,55,56,57,58,59,60,61,62,63,64,65,66,67,68,69,70,71,72,73,74,75,76,77,78,79,80,81,82,83,84,85,86,87,88,89,90,91,92,93,94,95,96,97,98,99,100,101,102,103,104,105,106,107,108,109,110,111,112,113,114,115,116,117,118,119,120,121,122,123,124,125,126,127,128,129,130,131,132,133,134,135,136,137,138,139,140,141,142,143,144,145,146,147,148,149,150,151,152,153,154,155,156,157,158,159,160,161,162,163,164,165,166,167,168,169,170,171,172,173,174,175,176,177,178,179,180,181,182,183,184,185,186,187,188,189,190,191,192,193,194,195,196,197,198,199,200,200,199,198,197,196,195,194,193,192,191,190,189,188,187,186,185,184,183,182,181,180,179,178,177,176,175,174,173,172,171,170,169,168,167,166,165,164,163,162,161,160,159,158,157,156,155,154,153,152,151,150,149,148,147,146,145,144,143,142,141,140,139,138,137,136,135,134,133,132,131,130,129,128,127,126,125,124,123,122,121,120,119,118,117,116,115,114,113,112,111,110,109,108,107,106,105,104,103,102,101,100,99,98,97,96,95,94,93,92,91,90,89,88,87,86,85,84,83,82,81,80,79,78,77,76,75,74,73,72,71,70,69,68,67,66,65,64,63,62,61,60,59,58,57,56,55,54,53,52,51,50,49,48,47,46,45,44,43,42,41,40,39,38,37,36,35,34,33,32,31,30,29,28,27,26,25,24,23,22,21,20,19,18,17,16,15,14,13,12,11,10,9,8,7,6,5,4,3,2,1,0]},\"selected\":{\"id\":\"3545\"},\"selection_policy\":{\"id\":\"3544\"}},\"id\":\"3519\",\"type\":\"ColumnDataSource\"},{\"attributes\":{\"source\":{\"id\":\"3553\"}},\"id\":\"3557\",\"type\":\"CDSView\"},{\"attributes\":{},\"id\":\"3621\",\"type\":\"DataRange1d\"},{\"attributes\":{\"dimensions\":\"width\"},\"id\":\"3503\",\"type\":\"PanTool\"},{\"attributes\":{\"formatter\":{\"id\":\"3729\"},\"ticker\":{\"id\":\"3460\"}},\"id\":\"3459\",\"type\":\"LinearAxis\"},{\"attributes\":{\"overlay\":{\"id\":\"3510\"}},\"id\":\"3505\",\"type\":\"BoxZoomTool\"},{\"attributes\":{},\"id\":\"3615\",\"type\":\"UnionRenderers\"},{\"attributes\":{\"active_drag\":{\"id\":\"3463\"},\"active_inspect\":\"auto\",\"active_multi\":null,\"active_scroll\":{\"id\":\"3464\"},\"active_tap\":\"auto\",\"tools\":[{\"id\":\"3463\"},{\"id\":\"3464\"},{\"id\":\"3465\"},{\"id\":\"3466\"},{\"id\":\"3467\"},{\"id\":\"3468\"},{\"id\":\"3469\"},{\"id\":\"3769\"},{\"id\":\"3772\"}]},\"id\":\"3471\",\"type\":\"Toolbar\"},{\"attributes\":{\"fill_alpha\":{\"value\":0.1},\"fill_color\":{\"value\":\"blue\"},\"line_alpha\":{\"value\":0.1},\"line_color\":{\"value\":\"blue\"},\"size\":{\"units\":\"screen\",\"value\":8},\"x\":{\"value\":200},\"y\":{\"value\":1.4635355200000002}},\"id\":\"3555\",\"type\":\"Scatter\"},{\"attributes\":{\"dimensions\":\"width\",\"maintain_focus\":false},\"id\":\"3636\",\"type\":\"WheelZoomTool\"},{\"attributes\":{},\"id\":\"3469\",\"type\":\"SaveTool\"},{\"attributes\":{\"fill_color\":{\"value\":\"red\"},\"line_color\":{\"value\":\"red\"},\"size\":{\"units\":\"screen\",\"value\":8},\"x\":{\"value\":112},\"y\":{\"value\":1.2273630400000002}},\"id\":\"3574\",\"type\":\"Scatter\"},{\"attributes\":{},\"id\":\"3632\",\"type\":\"BasicTicker\"},{\"attributes\":{\"data_source\":{\"id\":\"3595\"},\"glyph\":{\"id\":\"3596\"},\"hover_glyph\":null,\"muted_glyph\":null,\"nonselection_glyph\":{\"id\":\"3597\"},\"selection_glyph\":null,\"view\":{\"id\":\"3599\"}},\"id\":\"3598\",\"type\":\"GlyphRenderer\"},{\"attributes\":{\"factors\":[\"0\",\"1\"],\"palette\":[\"tomato\",\"lime\"]},\"id\":\"3482\",\"type\":\"CategoricalColorMapper\"},{\"attributes\":{\"source\":{\"id\":\"3519\"}},\"id\":\"3524\",\"type\":\"CDSView\"},{\"attributes\":{\"overlay\":{\"id\":\"3642\"}},\"id\":\"3637\",\"type\":\"BoxZoomTool\"},{\"attributes\":{\"data\":{},\"selected\":{\"id\":\"3549\"},\"selection_policy\":{\"id\":\"3548\"}},\"id\":\"3534\",\"type\":\"ColumnDataSource\"},{\"attributes\":{\"axis\":{\"id\":\"3495\"},\"ticker\":null},\"id\":\"3498\",\"type\":\"Grid\"},{\"attributes\":{\"line_alpha\":0.1,\"line_color\":\"red\",\"line_width\":2,\"x\":{\"field\":\"x\"},\"y\":{\"value\":1.4080350400000001}},\"id\":\"3597\",\"type\":\"Line\"},{\"attributes\":{\"format\":\"0,0.[00]%\"},\"id\":\"3532\",\"type\":\"NumeralTickFormatter\"},{\"attributes\":{\"axis_label\":\"Profit / Loss\",\"formatter\":{\"id\":\"3666\"},\"minor_tick_line_color\":null,\"ticker\":{\"id\":\"3632\"}},\"id\":\"3631\",\"type\":\"LinearAxis\"},{\"attributes\":{\"axis\":{\"id\":\"3499\"},\"dimension\":1,\"ticker\":null},\"id\":\"3502\",\"type\":\"Grid\"},{\"attributes\":{\"factors\":[\"0\",\"1\"],\"palette\":[\"rgb(178, 27, 0)\",\"rgb(0, 178, 0)\"]},\"id\":\"3483\",\"type\":\"CategoricalColorMapper\"},{\"attributes\":{},\"id\":\"3491\",\"type\":\"LinearScale\"},{\"attributes\":{\"active_drag\":{\"id\":\"3635\"},\"active_inspect\":\"auto\",\"active_multi\":null,\"active_scroll\":{\"id\":\"3636\"},\"active_tap\":\"auto\",\"tools\":[{\"id\":\"3635\"},{\"id\":\"3636\"},{\"id\":\"3637\"},{\"id\":\"3638\"},{\"id\":\"3639\"},{\"id\":\"3640\"},{\"id\":\"3641\"},{\"id\":\"3662\"},{\"id\":\"3664\"},{\"id\":\"3772\"}]},\"id\":\"3643\",\"type\":\"Toolbar\"},{\"attributes\":{\"dimensions\":\"width\",\"maintain_focus\":false},\"id\":\"3504\",\"type\":\"WheelZoomTool\"},{\"attributes\":{\"line_color\":\"#1f77b4\",\"line_width\":1.3,\"x\":{\"field\":\"index\"},\"y\":{\"field\":\"SMA(C,9)_0_1\"}},\"id\":\"3738\",\"type\":\"Line\"},{\"attributes\":{\"line_color\":\"#ff7f0e\",\"line_width\":1.3,\"x\":{\"field\":\"index\"},\"y\":{\"field\":\"SMA(C,38)_1_1\"}},\"id\":\"3754\",\"type\":\"Line\"},{\"attributes\":{},\"id\":\"3547\",\"type\":\"Selection\"},{\"attributes\":{},\"id\":\"3507\",\"type\":\"RedoTool\"}],\"root_ids\":[\"3834\"]},\"title\":\"Bokeh Application\",\"version\":\"2.2.3\"}};\n",
       "  var render_items = [{\"docid\":\"209cedb9-eaed-42ed-869b-17745acf5dfe\",\"root_ids\":[\"3834\"],\"roots\":{\"3834\":\"a6f83219-07d3-4db3-979e-9457130bdbd5\"}}];\n",
       "  root.Bokeh.embed.embed_items_notebook(docs_json, render_items);\n",
       "\n",
       "  }\n",
       "  if (root.Bokeh !== undefined) {\n",
       "    embed_document(root);\n",
       "  } else {\n",
       "    var attempts = 0;\n",
       "    var timer = setInterval(function(root) {\n",
       "      if (root.Bokeh !== undefined) {\n",
       "        clearInterval(timer);\n",
       "        embed_document(root);\n",
       "      } else {\n",
       "        attempts++;\n",
       "        if (attempts > 100) {\n",
       "          clearInterval(timer);\n",
       "          console.log(\"Bokeh: ERROR: Unable to run BokehJS code because BokehJS library is missing\");\n",
       "        }\n",
       "      }\n",
       "    }, 10, root)\n",
       "  }\n",
       "})(window);"
      ],
      "application/vnd.bokehjs_exec.v0+json": ""
     },
     "metadata": {
      "application/vnd.bokehjs_exec.v0+json": {
       "id": "3834"
      }
     },
     "output_type": "display_data"
    }
   ],
   "source": [
    "from backtesting import Backtest, Strategy\n",
    "from backtesting.lib import crossover\n",
    "import itertools\n",
    "from backtesting.test import SMA\n",
    "\n",
    "t1 = range(10)\n",
    "t2 = range(20,40,2)\n",
    "itemlist = list(itertools.product(t1,t2))\n",
    "\n",
    "max_index = -1\n",
    "max_ret = 0\n",
    "for item in itemlist:\n",
    "    class Smacross(Strategy):\n",
    "        def init(self):\n",
    "            price_close = self.data.Close\n",
    "            self.ma1 = self.I(SMA, price_close, item[0])    #7 and 39 gives 54% return SUSHI hourly chart\n",
    "            self.ma2 = self.I(SMA, price_close, item[1])\n",
    "\n",
    "\n",
    "        def next(self):\n",
    "            self.data.Volume\n",
    "            if crossover(self.ma1, self.ma2):\n",
    "                self.buy()\n",
    "            elif crossover(self.ma2, self.ma1):\n",
    "                self.sell()\n",
    "\n",
    "\n",
    "    bt = Backtest(df, Smacross, commission=.005, exclusive_orders=True)\n",
    "    stats = bt.run()\n",
    "    #print(stats[\"Return [%]\"])\n",
    "    if stats[\"Return [%]\"]>max_ret:\n",
    "        max_ret = stats[\"Return [%]\"]\n",
    "        max_index = item\n",
    "bt.plot()"
   ]
  },
  {
   "cell_type": "code",
   "execution_count": 28,
   "metadata": {},
   "outputs": [
    {
     "name": "stdout",
     "output_type": "stream",
     "text": [
      "(8, 28) 67.50044600000008\n"
     ]
    }
   ],
   "source": [
    "print(max_index,max_ret)"
   ]
  },
  {
   "cell_type": "code",
   "execution_count": null,
   "metadata": {},
   "outputs": [],
   "source": []
  },
  {
   "cell_type": "code",
   "execution_count": null,
   "metadata": {},
   "outputs": [],
   "source": []
  }
 ],
 "metadata": {
  "kernelspec": {
   "display_name": "Python 3",
   "language": "python",
   "name": "python3"
  },
  "language_info": {
   "codemirror_mode": {
    "name": "ipython",
    "version": 3
   },
   "file_extension": ".py",
   "mimetype": "text/x-python",
   "name": "python",
   "nbconvert_exporter": "python",
   "pygments_lexer": "ipython3",
   "version": "3.7.6"
  }
 },
 "nbformat": 4,
 "nbformat_minor": 4
}
