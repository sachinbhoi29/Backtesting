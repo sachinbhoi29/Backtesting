{
 "cells": [
  {
   "cell_type": "code",
   "execution_count": 2,
   "metadata": {},
   "outputs": [],
   "source": [
    "import cryptocompare\n",
    "import pandas as pd\n",
    "import matplotlib.pyplot as plt\n",
    "import mplfinance as mpf\n",
    "from datetime import datetime, timedelta\n",
    "plt.rcParams[\"figure.figsize\"] = (18,7)"
   ]
  },
  {
   "cell_type": "code",
   "execution_count": 3,
   "metadata": {},
   "outputs": [],
   "source": [
    "# how much data you want\n",
    "limit_data = 200 #(hours)\n",
    "# What you wanna trade\n",
    "coin = 'SUSHI'\n",
    "# Base currency \n",
    "currency = 'BTC'"
   ]
  },
  {
   "cell_type": "code",
   "execution_count": 4,
   "metadata": {},
   "outputs": [],
   "source": [
    "data = cryptocompare.get_historical_price_hour(coin, curr=currency, limit= limit_data, exchange='Binance')"
   ]
  },
  {
   "cell_type": "code",
   "execution_count": 5,
   "metadata": {},
   "outputs": [],
   "source": [
    "# mean = []\n",
    "time = []\n",
    "high = []\n",
    "low = []\n",
    "open1 = []\n",
    "close1 = []\n",
    "volume = []\n",
    "for i in range(len(data)):\n",
    "    hi = data[i]['high']\n",
    "    lo = data[i]['low']\n",
    "    op = data[i]['open']\n",
    "    cl = data[i]['close']\n",
    "    vl = data[i]['volumefrom']\n",
    "#     mean.append((hi+lo)/2)\n",
    "    time.append(i)\n",
    "    high.append(hi)\n",
    "    low.append(lo)\n",
    "    open1.append(op)\n",
    "    close1.append(cl)\n",
    "    volume.append(vl)\n",
    "#df = pd.DataFrame(list(zip(pd.Series(pd.date_range('2000', freq='H', periods=limit_data)),high,low,open1,close1,volume,mean)), columns =['Date','high','low','open','close','volumefrom', 'mean']) \n",
    "\n",
    "time_delta = timedelta(hours=limit_data, minutes=0, seconds=0, microseconds=0) # minus hours \n",
    "date_at_start = datetime.now() - time_delta\n",
    "days = pd.date_range(date_at_start, date_at_start + timedelta(limit_data/24), freq='H') # if freq is in hours then divide limit_data by 24\n",
    "\n",
    "df = pd.DataFrame({'Date': days,'Open':open1, 'High': high, 'Low' : low, 'Close': close1, 'Volume' : volume})\n",
    "df = df.set_index('Date')"
   ]
  },
  {
   "cell_type": "code",
   "execution_count": 6,
   "metadata": {},
   "outputs": [
    {
     "data": {
      "text/html": [
       "<div>\n",
       "<style scoped>\n",
       "    .dataframe tbody tr th:only-of-type {\n",
       "        vertical-align: middle;\n",
       "    }\n",
       "\n",
       "    .dataframe tbody tr th {\n",
       "        vertical-align: top;\n",
       "    }\n",
       "\n",
       "    .dataframe thead th {\n",
       "        text-align: right;\n",
       "    }\n",
       "</style>\n",
       "<table border=\"1\" class=\"dataframe\">\n",
       "  <thead>\n",
       "    <tr style=\"text-align: right;\">\n",
       "      <th></th>\n",
       "      <th>Open</th>\n",
       "      <th>High</th>\n",
       "      <th>Low</th>\n",
       "      <th>Close</th>\n",
       "      <th>Volume</th>\n",
       "    </tr>\n",
       "    <tr>\n",
       "      <th>Date</th>\n",
       "      <th></th>\n",
       "      <th></th>\n",
       "      <th></th>\n",
       "      <th></th>\n",
       "      <th></th>\n",
       "    </tr>\n",
       "  </thead>\n",
       "  <tbody>\n",
       "    <tr>\n",
       "      <th>2020-12-30 01:44:38.280378</th>\n",
       "      <td>0.000088</td>\n",
       "      <td>0.000088</td>\n",
       "      <td>0.000086</td>\n",
       "      <td>0.000087</td>\n",
       "      <td>149540.54</td>\n",
       "    </tr>\n",
       "    <tr>\n",
       "      <th>2020-12-30 02:44:38.280378</th>\n",
       "      <td>0.000087</td>\n",
       "      <td>0.000088</td>\n",
       "      <td>0.000086</td>\n",
       "      <td>0.000086</td>\n",
       "      <td>27198.07</td>\n",
       "    </tr>\n",
       "    <tr>\n",
       "      <th>2020-12-30 03:44:38.280378</th>\n",
       "      <td>0.000086</td>\n",
       "      <td>0.000088</td>\n",
       "      <td>0.000086</td>\n",
       "      <td>0.000087</td>\n",
       "      <td>68732.91</td>\n",
       "    </tr>\n",
       "    <tr>\n",
       "      <th>2020-12-30 04:44:38.280378</th>\n",
       "      <td>0.000087</td>\n",
       "      <td>0.000088</td>\n",
       "      <td>0.000086</td>\n",
       "      <td>0.000087</td>\n",
       "      <td>104604.30</td>\n",
       "    </tr>\n",
       "    <tr>\n",
       "      <th>2020-12-30 05:44:38.280378</th>\n",
       "      <td>0.000087</td>\n",
       "      <td>0.000088</td>\n",
       "      <td>0.000086</td>\n",
       "      <td>0.000088</td>\n",
       "      <td>38384.09</td>\n",
       "    </tr>\n",
       "    <tr>\n",
       "      <th>...</th>\n",
       "      <td>...</td>\n",
       "      <td>...</td>\n",
       "      <td>...</td>\n",
       "      <td>...</td>\n",
       "      <td>...</td>\n",
       "    </tr>\n",
       "    <tr>\n",
       "      <th>2021-01-07 05:44:38.280378</th>\n",
       "      <td>0.000103</td>\n",
       "      <td>0.000103</td>\n",
       "      <td>0.000101</td>\n",
       "      <td>0.000102</td>\n",
       "      <td>32753.41</td>\n",
       "    </tr>\n",
       "    <tr>\n",
       "      <th>2021-01-07 06:44:38.280378</th>\n",
       "      <td>0.000102</td>\n",
       "      <td>0.000103</td>\n",
       "      <td>0.000101</td>\n",
       "      <td>0.000101</td>\n",
       "      <td>65720.59</td>\n",
       "    </tr>\n",
       "    <tr>\n",
       "      <th>2021-01-07 07:44:38.280378</th>\n",
       "      <td>0.000101</td>\n",
       "      <td>0.000105</td>\n",
       "      <td>0.000100</td>\n",
       "      <td>0.000105</td>\n",
       "      <td>222114.82</td>\n",
       "    </tr>\n",
       "    <tr>\n",
       "      <th>2021-01-07 08:44:38.280378</th>\n",
       "      <td>0.000105</td>\n",
       "      <td>0.000105</td>\n",
       "      <td>0.000102</td>\n",
       "      <td>0.000104</td>\n",
       "      <td>175690.93</td>\n",
       "    </tr>\n",
       "    <tr>\n",
       "      <th>2021-01-07 09:44:38.280378</th>\n",
       "      <td>0.000104</td>\n",
       "      <td>0.000105</td>\n",
       "      <td>0.000101</td>\n",
       "      <td>0.000102</td>\n",
       "      <td>79138.55</td>\n",
       "    </tr>\n",
       "  </tbody>\n",
       "</table>\n",
       "<p>201 rows × 5 columns</p>\n",
       "</div>"
      ],
      "text/plain": [
       "                                Open      High       Low     Close     Volume\n",
       "Date                                                                         \n",
       "2020-12-30 01:44:38.280378  0.000088  0.000088  0.000086  0.000087  149540.54\n",
       "2020-12-30 02:44:38.280378  0.000087  0.000088  0.000086  0.000086   27198.07\n",
       "2020-12-30 03:44:38.280378  0.000086  0.000088  0.000086  0.000087   68732.91\n",
       "2020-12-30 04:44:38.280378  0.000087  0.000088  0.000086  0.000087  104604.30\n",
       "2020-12-30 05:44:38.280378  0.000087  0.000088  0.000086  0.000088   38384.09\n",
       "...                              ...       ...       ...       ...        ...\n",
       "2021-01-07 05:44:38.280378  0.000103  0.000103  0.000101  0.000102   32753.41\n",
       "2021-01-07 06:44:38.280378  0.000102  0.000103  0.000101  0.000101   65720.59\n",
       "2021-01-07 07:44:38.280378  0.000101  0.000105  0.000100  0.000105  222114.82\n",
       "2021-01-07 08:44:38.280378  0.000105  0.000105  0.000102  0.000104  175690.93\n",
       "2021-01-07 09:44:38.280378  0.000104  0.000105  0.000101  0.000102   79138.55\n",
       "\n",
       "[201 rows x 5 columns]"
      ]
     },
     "execution_count": 6,
     "metadata": {},
     "output_type": "execute_result"
    }
   ],
   "source": [
    "df"
   ]
  },
  {
   "cell_type": "code",
   "execution_count": 54,
   "metadata": {},
   "outputs": [
    {
     "name": "stdout",
     "output_type": "stream",
     "text": [
      "-18.786376853129976\n",
      "-23.41156333459998\n",
      "-17.043741397234935\n",
      "-27.05333229159995\n"
     ]
    },
    {
     "name": "stderr",
     "output_type": "stream",
     "text": [
      "/usr/local/anaconda3/lib/python3.7/site-packages/ipykernel_launcher.py:27: UserWarning: 'Can't superimpose OHLC data with rule 'None'(index datetime resolution: 'microsecond'). Skipping.\n"
     ]
    },
    {
     "data": {
      "text/html": [
       "\n",
       "\n",
       "\n",
       "\n",
       "\n",
       "\n",
       "  <div class=\"bk-root\" id=\"a2473076-8acd-4fb5-90d6-97d38c0bb87a\" data-root-id=\"9944\"></div>\n"
      ]
     },
     "metadata": {},
     "output_type": "display_data"
    },
    {
     "data": {
      "application/javascript": [
       "(function(root) {\n",
       "  function embed_document(root) {\n",
       "    \n",
       "  var docs_json = {\"0886ac0c-f1ee-48aa-8145-62603ef619ec\":{\"roots\":{\"references\":[{\"attributes\":{\"children\":[{\"id\":\"9941\"},{\"id\":\"9943\"}],\"sizing_mode\":\"stretch_width\"},\"id\":\"9944\",\"type\":\"Row\"},{\"attributes\":{\"format\":\"0.[00]%\"},\"id\":\"9776\",\"type\":\"NumeralTickFormatter\"},{\"attributes\":{\"data_source\":{\"id\":\"9683\"},\"glyph\":{\"id\":\"9684\"},\"hover_glyph\":null,\"muted_glyph\":null,\"nonselection_glyph\":{\"id\":\"9685\"},\"selection_glyph\":null,\"view\":{\"id\":\"9687\"}},\"id\":\"9686\",\"type\":\"GlyphRenderer\"},{\"attributes\":{\"fill_alpha\":{\"value\":0.1},\"fill_color\":{\"value\":\"cyan\"},\"line_alpha\":{\"value\":0.1},\"line_color\":{\"value\":\"cyan\"},\"size\":{\"units\":\"screen\",\"value\":8},\"x\":{\"value\":119},\"y\":{\"value\":1.1474602750459502}},\"id\":\"9646\",\"type\":\"Scatter\"},{\"attributes\":{\"axis_label\":\"Profit / Loss\",\"formatter\":{\"id\":\"9776\"},\"minor_tick_line_color\":null,\"ticker\":{\"id\":\"9742\"}},\"id\":\"9741\",\"type\":\"LinearAxis\"},{\"attributes\":{\"formatter\":{\"id\":\"9595\"},\"ticker\":{\"id\":\"9566\"},\"visible\":false},\"id\":\"9565\",\"type\":\"LinearAxis\"},{\"attributes\":{\"label\":{\"value\":\"Peak (115%)\"},\"renderers\":[{\"id\":\"9647\"}]},\"id\":\"9662\",\"type\":\"LegendItem\"},{\"attributes\":{},\"id\":\"9780\",\"type\":\"DataRange1d\"},{\"attributes\":{},\"id\":\"9570\",\"type\":\"BasicTicker\"},{\"attributes\":{},\"id\":\"9619\",\"type\":\"SaveTool\"},{\"attributes\":{},\"id\":\"9566\",\"type\":\"BasicTicker\"},{\"attributes\":{\"logo\":null,\"toolbars\":[{\"id\":\"9621\"},{\"id\":\"9753\"},{\"id\":\"9581\"},{\"id\":\"9802\"}],\"tools\":[{\"id\":\"9613\"},{\"id\":\"9614\"},{\"id\":\"9615\"},{\"id\":\"9616\"},{\"id\":\"9617\"},{\"id\":\"9618\"},{\"id\":\"9619\"},{\"id\":\"9640\"},{\"id\":\"9882\"},{\"id\":\"9745\"},{\"id\":\"9746\"},{\"id\":\"9747\"},{\"id\":\"9748\"},{\"id\":\"9749\"},{\"id\":\"9750\"},{\"id\":\"9751\"},{\"id\":\"9772\"},{\"id\":\"9774\"},{\"id\":\"9882\"},{\"id\":\"9573\"},{\"id\":\"9574\"},{\"id\":\"9575\"},{\"id\":\"9576\"},{\"id\":\"9577\"},{\"id\":\"9578\"},{\"id\":\"9579\"},{\"id\":\"9879\"},{\"id\":\"9882\"},{\"id\":\"9794\"},{\"id\":\"9795\"},{\"id\":\"9796\"},{\"id\":\"9797\"},{\"id\":\"9798\"},{\"id\":\"9799\"},{\"id\":\"9800\"},{\"id\":\"9816\"},{\"id\":\"9882\"}]},\"id\":\"9942\",\"type\":\"ProxyToolbar\"},{\"attributes\":{\"axis\":{\"id\":\"9741\"},\"dimension\":1,\"ticker\":null},\"id\":\"9744\",\"type\":\"Grid\"},{\"attributes\":{\"axis\":{\"id\":\"9565\"},\"ticker\":null},\"id\":\"9568\",\"type\":\"Grid\"},{\"attributes\":{\"active_drag\":{\"id\":\"9613\"},\"active_inspect\":\"auto\",\"active_multi\":null,\"active_scroll\":{\"id\":\"9614\"},\"active_tap\":\"auto\",\"tools\":[{\"id\":\"9613\"},{\"id\":\"9614\"},{\"id\":\"9615\"},{\"id\":\"9616\"},{\"id\":\"9617\"},{\"id\":\"9618\"},{\"id\":\"9619\"},{\"id\":\"9640\"},{\"id\":\"9882\"}]},\"id\":\"9621\",\"type\":\"Toolbar\"},{\"attributes\":{},\"id\":\"9784\",\"type\":\"LinearScale\"},{\"attributes\":{\"fill_alpha\":{\"value\":0.1},\"fill_color\":{\"field\":\"returns_positive\",\"transform\":{\"id\":\"9592\"}},\"line_alpha\":{\"value\":0.1},\"marker\":{\"value\":\"triangle\"},\"size\":{\"field\":\"marker_size\",\"units\":\"screen\"},\"x\":{\"field\":\"index\"},\"y\":{\"field\":\"returns_long\"}},\"id\":\"9764\",\"type\":\"Scatter\"},{\"attributes\":{\"axis\":{\"id\":\"9569\"},\"dimension\":1,\"ticker\":null},\"id\":\"9572\",\"type\":\"Grid\"},{\"attributes\":{\"data\":{\"equity_dd\":{\"__ndarray__\":\"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\",\"dtype\":\"float64\",\"order\":\"little\",\"shape\":[402]},\"index\":[0,1,2,3,4,5,6,7,8,9,10,11,12,13,14,15,16,17,18,19,20,21,22,23,24,25,26,27,28,29,30,31,32,33,34,35,36,37,38,39,40,41,42,43,44,45,46,47,48,49,50,51,52,53,54,55,56,57,58,59,60,61,62,63,64,65,66,67,68,69,70,71,72,73,74,75,76,77,78,79,80,81,82,83,84,85,86,87,88,89,90,91,92,93,94,95,96,97,98,99,100,101,102,103,104,105,106,107,108,109,110,111,112,113,114,115,116,117,118,119,120,121,122,123,124,125,126,127,128,129,130,131,132,133,134,135,136,137,138,139,140,141,142,143,144,145,146,147,148,149,150,151,152,153,154,155,156,157,158,159,160,161,162,163,164,165,166,167,168,169,170,171,172,173,174,175,176,177,178,179,180,181,182,183,184,185,186,187,188,189,190,191,192,193,194,195,196,197,198,199,200,200,199,198,197,196,195,194,193,192,191,190,189,188,187,186,185,184,183,182,181,180,179,178,177,176,175,174,173,172,171,170,169,168,167,166,165,164,163,162,161,160,159,158,157,156,155,154,153,152,151,150,149,148,147,146,145,144,143,142,141,140,139,138,137,136,135,134,133,132,131,130,129,128,127,126,125,124,123,122,121,120,119,118,117,116,115,114,113,112,111,110,109,108,107,106,105,104,103,102,101,100,99,98,97,96,95,94,93,92,91,90,89,88,87,86,85,84,83,82,81,80,79,78,77,76,75,74,73,72,71,70,69,68,67,66,65,64,63,62,61,60,59,58,57,56,55,54,53,52,51,50,49,48,47,46,45,44,43,42,41,40,39,38,37,36,35,34,33,32,31,30,29,28,27,26,25,24,23,22,21,20,19,18,17,16,15,14,13,12,11,10,9,8,7,6,5,4,3,2,1,0]},\"selected\":{\"id\":\"9655\"},\"selection_policy\":{\"id\":\"9654\"}},\"id\":\"9629\",\"type\":\"ColumnDataSource\"},{\"attributes\":{\"fill_color\":{\"value\":\"cyan\"},\"line_color\":{\"value\":\"cyan\"},\"size\":{\"units\":\"screen\",\"value\":8},\"x\":{\"value\":119},\"y\":{\"value\":1.1474602750459502}},\"id\":\"9645\",\"type\":\"Scatter\"},{\"attributes\":{\"fill_alpha\":{\"value\":0.1},\"fill_color\":{\"value\":\"red\"},\"line_alpha\":{\"value\":0.1},\"line_color\":{\"value\":\"red\"},\"size\":{\"units\":\"screen\",\"value\":8},\"x\":{\"value\":185},\"y\":{\"value\":0.7202471953840004}},\"id\":\"9685\",\"type\":\"Scatter\"},{\"attributes\":{\"axis\":{\"id\":\"9737\"},\"ticker\":null},\"id\":\"9740\",\"type\":\"Grid\"},{\"attributes\":{\"formatter\":{\"id\":\"9838\"},\"ticker\":{\"id\":\"9570\"}},\"id\":\"9569\",\"type\":\"LinearAxis\"},{\"attributes\":{\"source\":{\"id\":\"9590\"}},\"id\":\"9771\",\"type\":\"CDSView\"},{\"attributes\":{},\"id\":\"9782\",\"type\":\"LinearScale\"},{\"attributes\":{\"source\":{\"id\":\"9590\"}},\"id\":\"9766\",\"type\":\"CDSView\"},{\"attributes\":{},\"id\":\"9656\",\"type\":\"UnionRenderers\"},{\"attributes\":{\"callback\":null,\"formatters\":{\"@datetime\":\"datetime\"},\"mode\":\"vline\",\"point_policy\":\"follow_mouse\",\"renderers\":[{\"id\":\"9638\"}],\"tooltips\":[[\"Date\",\"@datetime{%c}\"],[\"Equity\",\"@equity{+0,0.[000]%}\"]]},\"id\":\"9640\",\"type\":\"HoverTool\"},{\"attributes\":{\"fill_alpha\":{\"value\":0.1},\"fill_color\":{\"field\":\"returns_positive\",\"transform\":{\"id\":\"9592\"}},\"line_alpha\":{\"value\":0.1},\"marker\":{\"value\":\"inverted_triangle\"},\"size\":{\"field\":\"marker_size\",\"units\":\"screen\"},\"x\":{\"field\":\"index\"},\"y\":{\"field\":\"returns_short\"}},\"id\":\"9769\",\"type\":\"Scatter\"},{\"attributes\":{},\"id\":\"9679\",\"type\":\"UnionRenderers\"},{\"attributes\":{},\"id\":\"9618\",\"type\":\"ResetTool\"},{\"attributes\":{},\"id\":\"9742\",\"type\":\"BasicTicker\"},{\"attributes\":{\"bottom_units\":\"screen\",\"fill_alpha\":0.5,\"fill_color\":\"lightgrey\",\"left_units\":\"screen\",\"level\":\"overlay\",\"line_alpha\":1.0,\"line_color\":\"black\",\"line_dash\":[4,4],\"line_width\":2,\"right_units\":\"screen\",\"top_units\":\"screen\"},\"id\":\"9580\",\"type\":\"BoxAnnotation\"},{\"attributes\":{\"data_source\":{\"id\":\"9590\"},\"glyph\":{\"id\":\"9831\"},\"hover_glyph\":null,\"muted_glyph\":null,\"nonselection_glyph\":{\"id\":\"9832\"},\"selection_glyph\":null,\"view\":{\"id\":\"9834\"}},\"id\":\"9833\",\"type\":\"GlyphRenderer\"},{\"attributes\":{},\"id\":\"9680\",\"type\":\"Selection\"},{\"attributes\":{\"fill_color\":{\"value\":\"red\"},\"line_color\":{\"value\":\"red\"},\"size\":{\"units\":\"screen\",\"value\":8},\"x\":{\"value\":185},\"y\":{\"value\":0.7202471953840004}},\"id\":\"9684\",\"type\":\"Scatter\"},{\"attributes\":{},\"id\":\"9735\",\"type\":\"LinearScale\"},{\"attributes\":{},\"id\":\"9738\",\"type\":\"BasicTicker\"},{\"attributes\":{\"data_source\":{\"id\":\"9590\"},\"glyph\":{\"id\":\"9768\"},\"hover_glyph\":null,\"muted_glyph\":null,\"nonselection_glyph\":{\"id\":\"9769\"},\"selection_glyph\":null,\"view\":{\"id\":\"9771\"}},\"id\":\"9770\",\"type\":\"GlyphRenderer\"},{\"attributes\":{\"dimensions\":\"width\"},\"id\":\"9573\",\"type\":\"PanTool\"},{\"attributes\":{\"fill_alpha\":{\"value\":0.1},\"fill_color\":{\"value\":\"blue\"},\"line_alpha\":{\"value\":0.1},\"line_color\":{\"value\":\"blue\"},\"size\":{\"units\":\"screen\",\"value\":8},\"x\":{\"value\":200},\"y\":{\"value\":0.7294666770840005}},\"id\":\"9665\",\"type\":\"Scatter\"},{\"attributes\":{\"below\":[{\"id\":\"9737\"}],\"center\":[{\"id\":\"9740\"},{\"id\":\"9744\"},{\"id\":\"9761\"}],\"left\":[{\"id\":\"9741\"}],\"min_border_bottom\":6,\"min_border_left\":0,\"min_border_right\":10,\"min_border_top\":3,\"outline_line_color\":\"#666666\",\"plot_height\":90,\"plot_width\":null,\"renderers\":[{\"id\":\"9765\"},{\"id\":\"9770\"}],\"sizing_mode\":\"stretch_width\",\"title\":{\"id\":\"9910\"},\"toolbar\":{\"id\":\"9753\"},\"toolbar_location\":null,\"x_range\":{\"id\":\"9556\"},\"x_scale\":{\"id\":\"9733\"},\"y_range\":{\"id\":\"9731\"},\"y_scale\":{\"id\":\"9735\"}},\"id\":\"9729\",\"subtype\":\"Figure\",\"type\":\"Plot\"},{\"attributes\":{\"data_source\":{\"id\":\"9663\"},\"glyph\":{\"id\":\"9664\"},\"hover_glyph\":null,\"muted_glyph\":null,\"nonselection_glyph\":{\"id\":\"9665\"},\"selection_glyph\":null,\"view\":{\"id\":\"9667\"}},\"id\":\"9666\",\"type\":\"GlyphRenderer\"},{\"attributes\":{\"callback\":null,\"formatters\":{\"@datetime\":\"datetime\"},\"point_policy\":\"follow_mouse\",\"renderers\":[{\"id\":\"9770\"}],\"tooltips\":[[\"Date\",\"@datetime{%c}\"],[\"Size\",\"@size{0,0}\"],[\"P/L\",\"@returns_short{+0.[000]%}\"]]},\"id\":\"9774\",\"type\":\"HoverTool\"},{\"attributes\":{\"dimensions\":\"width\",\"maintain_focus\":false},\"id\":\"9574\",\"type\":\"WheelZoomTool\"},{\"attributes\":{},\"id\":\"9658\",\"type\":\"UnionRenderers\"},{\"attributes\":{\"formatter\":{\"id\":\"9912\"},\"ticker\":{\"id\":\"9738\"},\"visible\":false},\"id\":\"9737\",\"type\":\"LinearAxis\"},{\"attributes\":{\"callback\":null,\"formatters\":{\"@datetime\":\"datetime\"},\"point_policy\":\"follow_mouse\",\"renderers\":[{\"id\":\"9765\"}],\"tooltips\":[[\"Date\",\"@datetime{%c}\"],[\"Size\",\"@size{0,0}\"],[\"P/L\",\"@returns_long{+0.[000]%}\"]]},\"id\":\"9772\",\"type\":\"HoverTool\"},{\"attributes\":{},\"id\":\"9577\",\"type\":\"RedoTool\"},{\"attributes\":{\"data\":{},\"selected\":{\"id\":\"9680\"},\"selection_policy\":{\"id\":\"9679\"}},\"id\":\"9663\",\"type\":\"ColumnDataSource\"},{\"attributes\":{\"overlay\":{\"id\":\"9580\"}},\"id\":\"9575\",\"type\":\"BoxZoomTool\"},{\"attributes\":{\"data\":{},\"selected\":{\"id\":\"9702\"},\"selection_policy\":{\"id\":\"9701\"}},\"id\":\"9683\",\"type\":\"ColumnDataSource\"},{\"attributes\":{\"below\":[{\"id\":\"9786\"}],\"center\":[{\"id\":\"9789\"},{\"id\":\"9793\"}],\"left\":[{\"id\":\"9790\"}],\"min_border_bottom\":6,\"min_border_left\":0,\"min_border_right\":10,\"min_border_top\":3,\"outline_line_color\":\"#666666\",\"plot_height\":90,\"plot_width\":null,\"renderers\":[{\"id\":\"9814\"}],\"sizing_mode\":\"stretch_width\",\"title\":{\"id\":\"9932\"},\"toolbar\":{\"id\":\"9802\"},\"toolbar_location\":null,\"x_range\":{\"id\":\"9556\"},\"x_scale\":{\"id\":\"9782\"},\"y_range\":{\"id\":\"9780\"},\"y_scale\":{\"id\":\"9784\"}},\"id\":\"9778\",\"subtype\":\"Figure\",\"type\":\"Plot\"},{\"attributes\":{\"line_alpha\":0.1,\"line_color\":\"red\",\"line_width\":2,\"x\":{\"field\":\"x\"},\"y\":{\"value\":1.1474602750459502}},\"id\":\"9707\",\"type\":\"Line\"},{\"attributes\":{},\"id\":\"9733\",\"type\":\"LinearScale\"},{\"attributes\":{},\"id\":\"9576\",\"type\":\"UndoTool\"},{\"attributes\":{\"fill_color\":{\"field\":\"returns_positive\",\"transform\":{\"id\":\"9592\"}},\"marker\":{\"value\":\"inverted_triangle\"},\"size\":{\"field\":\"marker_size\",\"units\":\"screen\"},\"x\":{\"field\":\"index\"},\"y\":{\"field\":\"returns_short\"}},\"id\":\"9768\",\"type\":\"Scatter\"},{\"attributes\":{\"source\":{\"id\":\"9683\"}},\"id\":\"9687\",\"type\":\"CDSView\"},{\"attributes\":{},\"id\":\"9731\",\"type\":\"DataRange1d\"},{\"attributes\":{},\"id\":\"9559\",\"type\":\"DataRange1d\"},{\"attributes\":{},\"id\":\"9578\",\"type\":\"ResetTool\"},{\"attributes\":{\"text\":\"\"},\"id\":\"9649\",\"type\":\"Title\"},{\"attributes\":{},\"id\":\"9725\",\"type\":\"UnionRenderers\"},{\"attributes\":{\"factors\":[\"0\",\"1\"],\"palette\":[\"tomato\",\"lime\"]},\"id\":\"9591\",\"type\":\"CategoricalColorMapper\"},{\"attributes\":{},\"id\":\"9579\",\"type\":\"SaveTool\"},{\"attributes\":{\"line_color\":\"#1f77b4\",\"line_width\":1.3,\"x\":{\"field\":\"index\"},\"y\":{\"field\":\"SMA(C,10)_0_1\"}},\"id\":\"9848\",\"type\":\"Line\"},{\"attributes\":{\"bounds\":[-10.0,210.0],\"end\":200,\"js_property_callbacks\":{\"change:end\":[{\"id\":\"9881\"}]},\"min_interval\":10},\"id\":\"9556\",\"type\":\"Range1d\"},{\"attributes\":{\"line_alpha\":0.1,\"line_color\":\"#1f77b4\",\"line_width\":1.5,\"x\":{\"field\":\"index\"},\"y\":{\"field\":\"equity\"}},\"id\":\"9637\",\"type\":\"Line\"},{\"attributes\":{\"bottom_units\":\"screen\",\"fill_alpha\":0.5,\"fill_color\":\"lightgrey\",\"left_units\":\"screen\",\"level\":\"overlay\",\"line_alpha\":1.0,\"line_color\":\"black\",\"line_dash\":[4,4],\"line_width\":2,\"right_units\":\"screen\",\"top_units\":\"screen\"},\"id\":\"9752\",\"type\":\"BoxAnnotation\"},{\"attributes\":{\"source\":{\"id\":\"9663\"}},\"id\":\"9667\",\"type\":\"CDSView\"},{\"attributes\":{\"line_alpha\":{\"value\":0.1},\"line_color\":{\"field\":\"returns_positive\",\"transform\":{\"id\":\"9593\"}},\"line_dash\":[2,4],\"line_width\":{\"value\":8},\"xs\":{\"field\":\"position_lines_xs\"},\"ys\":{\"field\":\"position_lines_ys\"}},\"id\":\"9832\",\"type\":\"MultiLine\"},{\"attributes\":{\"overlay\":{\"id\":\"9752\"}},\"id\":\"9747\",\"type\":\"BoxZoomTool\"},{\"attributes\":{\"source\":{\"id\":\"9589\"}},\"id\":\"9829\",\"type\":\"CDSView\"},{\"attributes\":{},\"id\":\"9657\",\"type\":\"Selection\"},{\"attributes\":{\"source\":{\"id\":\"9705\"}},\"id\":\"9709\",\"type\":\"CDSView\"},{\"attributes\":{\"active_drag\":{\"id\":\"9573\"},\"active_inspect\":\"auto\",\"active_multi\":null,\"active_scroll\":{\"id\":\"9574\"},\"active_tap\":\"auto\",\"tools\":[{\"id\":\"9573\"},{\"id\":\"9574\"},{\"id\":\"9575\"},{\"id\":\"9576\"},{\"id\":\"9577\"},{\"id\":\"9578\"},{\"id\":\"9579\"},{\"id\":\"9879\"},{\"id\":\"9882\"}]},\"id\":\"9581\",\"type\":\"Toolbar\"},{\"attributes\":{\"fill_color\":{\"field\":\"returns_positive\",\"transform\":{\"id\":\"9592\"}},\"marker\":{\"value\":\"triangle\"},\"size\":{\"field\":\"marker_size\",\"units\":\"screen\"},\"x\":{\"field\":\"index\"},\"y\":{\"field\":\"returns_long\"}},\"id\":\"9763\",\"type\":\"Scatter\"},{\"attributes\":{\"fill_color\":{\"value\":\"blue\"},\"line_color\":{\"value\":\"blue\"},\"size\":{\"units\":\"screen\",\"value\":8},\"x\":{\"value\":200},\"y\":{\"value\":0.7294666770840005}},\"id\":\"9664\",\"type\":\"Scatter\"},{\"attributes\":{\"format\":\"0,0.[00]%\"},\"id\":\"9642\",\"type\":\"NumeralTickFormatter\"},{\"attributes\":{\"dimensions\":\"width\"},\"id\":\"9745\",\"type\":\"PanTool\"},{\"attributes\":{\"data\":{\"x\":[119,200]},\"selected\":{\"id\":\"9726\"},\"selection_policy\":{\"id\":\"9725\"}},\"id\":\"9705\",\"type\":\"ColumnDataSource\"},{\"attributes\":{},\"id\":\"9654\",\"type\":\"UnionRenderers\"},{\"attributes\":{\"label\":{\"value\":\"SMA(C,39)\"},\"renderers\":[{\"id\":\"9866\"}]},\"id\":\"9878\",\"type\":\"LegendItem\"},{\"attributes\":{},\"id\":\"9702\",\"type\":\"Selection\"},{\"attributes\":{\"data_source\":{\"id\":\"9644\"},\"glyph\":{\"id\":\"9645\"},\"hover_glyph\":null,\"muted_glyph\":null,\"nonselection_glyph\":{\"id\":\"9646\"},\"selection_glyph\":null,\"view\":{\"id\":\"9648\"}},\"id\":\"9647\",\"type\":\"GlyphRenderer\"},{\"attributes\":{\"data_source\":{\"id\":\"9705\"},\"glyph\":{\"id\":\"9706\"},\"hover_glyph\":null,\"muted_glyph\":null,\"nonselection_glyph\":{\"id\":\"9707\"},\"selection_glyph\":null,\"view\":{\"id\":\"9709\"}},\"id\":\"9708\",\"type\":\"GlyphRenderer\"},{\"attributes\":{\"label\":{\"value\":\"Final (73%)\"},\"renderers\":[{\"id\":\"9666\"}]},\"id\":\"9682\",\"type\":\"LegendItem\"},{\"attributes\":{\"label\":{\"value\":\"Max Dd Dur. (3 days 09:00:00)\"},\"renderers\":[{\"id\":\"9708\"}]},\"id\":\"9728\",\"type\":\"LegendItem\"},{\"attributes\":{\"line_color\":\"#1f77b4\",\"line_width\":1.5,\"x\":{\"field\":\"index\"},\"y\":{\"field\":\"equity\"}},\"id\":\"9636\",\"type\":\"Line\"},{\"attributes\":{\"data_source\":{\"id\":\"9589\"},\"glyph\":{\"id\":\"9636\"},\"hover_glyph\":null,\"muted_glyph\":null,\"nonselection_glyph\":{\"id\":\"9637\"},\"selection_glyph\":null,\"view\":{\"id\":\"9639\"}},\"id\":\"9638\",\"type\":\"GlyphRenderer\"},{\"attributes\":{\"line_alpha\":0.1,\"line_color\":\"#1f77b4\",\"line_width\":1.3,\"x\":{\"field\":\"index\"},\"y\":{\"field\":\"SMA(C,10)_0_1\"}},\"id\":\"9849\",\"type\":\"Line\"},{\"attributes\":{\"line_color\":\"#ff7f0e\",\"line_width\":1.3,\"x\":{\"field\":\"index\"},\"y\":{\"field\":\"SMA(C,39)_1_1\"}},\"id\":\"9864\",\"type\":\"Line\"},{\"attributes\":{\"dimensions\":\"width\",\"maintain_focus\":false},\"id\":\"9746\",\"type\":\"WheelZoomTool\"},{\"attributes\":{\"border_line_color\":\"#333333\",\"click_policy\":\"hide\",\"items\":[{\"id\":\"9662\"},{\"id\":\"9682\"},{\"id\":\"9704\"},{\"id\":\"9728\"}],\"label_text_font_size\":\"8pt\",\"location\":\"top_left\",\"margin\":0,\"padding\":5,\"spacing\":0},\"id\":\"9661\",\"type\":\"Legend\"},{\"attributes\":{\"line_color\":\"#666666\",\"line_dash\":[6],\"location\":0},\"id\":\"9761\",\"type\":\"Span\"},{\"attributes\":{\"line_color\":{\"field\":\"returns_positive\",\"transform\":{\"id\":\"9593\"}},\"line_dash\":[2,4],\"line_width\":{\"value\":8},\"xs\":{\"field\":\"position_lines_xs\"},\"ys\":{\"field\":\"position_lines_ys\"}},\"id\":\"9831\",\"type\":\"MultiLine\"},{\"attributes\":{\"data_source\":{\"id\":\"9589\"},\"glyph\":{\"id\":\"9826\"},\"hover_glyph\":null,\"muted_glyph\":null,\"nonselection_glyph\":{\"id\":\"9827\"},\"selection_glyph\":null,\"view\":{\"id\":\"9829\"}},\"id\":\"9828\",\"type\":\"GlyphRenderer\"},{\"attributes\":{},\"id\":\"9655\",\"type\":\"Selection\"},{\"attributes\":{},\"id\":\"9561\",\"type\":\"LinearScale\"},{\"attributes\":{\"label\":{\"value\":\"Max Drawdown (-37.2%)\"},\"renderers\":[{\"id\":\"9686\"}]},\"id\":\"9704\",\"type\":\"LegendItem\"},{\"attributes\":{\"data\":{},\"selected\":{\"id\":\"9659\"},\"selection_policy\":{\"id\":\"9658\"}},\"id\":\"9644\",\"type\":\"ColumnDataSource\"},{\"attributes\":{},\"id\":\"9749\",\"type\":\"RedoTool\"},{\"attributes\":{\"data\":{\"Close\":{\"__ndarray__\":\"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\",\"dtype\":\"float64\",\"order\":\"little\",\"shape\":[201]},\"High\":{\"__ndarray__\":\"+oRHdgAfFz/6hEd2AB8XP3Z3U4DeChc/S8isgygEFz9LyKyDKAQXP87VoHlKGBc/ztWgeUoYFz8mNO5ytiUXP5n+2xsy1Bc/oBnEB3b8Fz+Hrp9ZbVkZP9fxBGeVPhk/1/EEZ5U+GT/JuzSPDe4YP5fxpaYTvxg/l/GlphO/GD+gGcQHdvwXP/6S+ewlMhg/OoWmNoKeFz8fGQaHcv0WPy1P1l76TRc/fZI7bCIzFz8BoC9iREcXP0GgjiLGxhc/DMnJxK2CGD9kJxe+GZAYP6c0rPO5JBg/HAzQEVToFz/Q1hx7URYZP1v/+Fy3Uhk/sl1GViNgGT8hGoKIefsYP2tC/6lduBg/P5NYraexGD9GrkCZ69kYP2tC/6lduBg/vIVkt4WdGD8a/5mcNdMYP54MjpJX5xg/w6BMo8nFGD80XgTXJl8aP32GgfgKHBo/QZTUrq6vGj+pNSj1wCIaP/FQb6GGyho/ia8bW3RXGz8qNuZ1xCEbP8WhyKTQwxo/e3lLg+wGGz80XgTXJl8aPzReBNcmXxo/mfIhqBq9Gj9Ir7ya8tcaP0GU1K6urxo/mfIhqBq9Gj/a8oBonDwbP3lsFQ7O8Rs/RJVQsLWtHD8PvotSnWkdP7dfPlkxXB0/aSkPwSeMHD8KsNnbd1YcP6IOhpVl4xw/m/OdqSG7HD+V2LW93ZIcP/hfnRmz2x0/BpZt8TosHj/HokSm18EcP3df35iv3Bw/7DYDt0mgHD+LsJdce1UdPzRSSmMPSB0/xZUOMbmsHT8Io6NmWUEdP5XYtb3dkhw/Yg4n1eNjHD/eADPfwU8cP1TYVv1bExw/9V4hGKzdGz90XmOXqN4aP1jywueYPRo/T8qkhjYAGz86eezCaocaP0GU1K6urxo/+niNAukHGj8BlHXuLDAaP76G4LiMmxo/8VBvoYbKGj8BlHXuLDAaP9z/tt26URo/Utfa+1QVGj+yXUZWI2AZP9fxBGeVPhk/q0Jeat83GT9NySiFLwIZP1bxRuaRPxg/rk+U3/1MGD/gGSPI93sYP0auQJnr2Rg/Gv+ZnDXTGD/T41LwbysYPypCoOnbOBg/0+NS8G8rGD8R13s705UZP5LXObzWlBo/LUMc6+I2Gj/Kr3ob9tYbP7x5qkNuhhs//4Y/eQ4bGz+3a/jMSHMaP0/KpIY2ABs//4Y/eQ4bGz+X5esy/KcbP4CH/fkRGhw/81Hroo3IHD8PvotSnWkdP4SVr3A3LR0/A4k3fBwXHz9b54R1iCQfP3KBFfHnJSA/q2aMxSV9ID/HlooywKofPy843njSHR8/goh5+xgYHj/Ko8Cn3r8eP0aWzLG8qx4/S6R+KOK+Hz9pHVVNEHUfP5XM+0nGex8/lcz7ScZ7Hz8DiTd8HBcfP0aWzLG8qx4/iaNh51xAHj+pKW6BqQsdP756JkV1hB0/x6JEptfBHD/6bNOO0fAcP4uwl1x7VR0/2ubG9IQlHj+gAVAgR84dPzRSSmMPSB0/S7A4nPnVHD+5bHTOT3EcP7lsdM5PcRw/1+VK830nHD/QymIHOv8bP2kpD8EnjBw/EcvBx7t+HD+V2LW93ZIcPwGIu3oVGR0/XwHxX8VOHT8W2XM+4ZEdP1LLIIg9/hw/xZUOMbmsHT+OsRNeglMfP/WOCecJOiA/Ab6AA/8AID8a5yW1BqUePwaWbfE6LB4/e22RD9XvHT+Jo2HnXEAePz975MV4gx4/BpZt8TosHj8Io6NmWUEdP7dfPlkxXB0/4w7lVediHT8BiLt6FRkdP/ps047R8Bw/qSlugakLHT/c8/xpozodP4SVr3A3LR0/QogaO5eYHT8a5yW1BqUeP6UPApds4R4/ayqLwi6KHj+CiHn7GBgePwyxVd1+VB4/vnomRXWEHT+uNyD4zh4eP4mjYedcQB4/TbG0nQDUHj9Z5gh0gSYdP7JRjOILSRw/ngDUHkDQGz/nKFFAJI0bPygpsACmDBw/GvPfKB68Gz8jG/6JgPkaP0/KpIY2ABs/Ixv+iYD5Gj90XmOXqN4aP/FQb6GGyho/SK+8mvLXGj/nKFFAJI0bP/hrV43K8ho/KjbmdcQhGz8qNuZ1xCEbPyMb/omA+Ro/vHmqQ26GGz8/h545kJobPwy9D1GWaxs/\",\"dtype\":\"float64\",\"order\":\"little\",\"shape\":[201]},\"Low\":{\"__ndarray__\":\"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\",\"dtype\":\"float64\",\"order\":\"little\",\"shape\":[201]},\"Open\":{\"__ndarray__\":\"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\",\"dtype\":\"float64\",\"order\":\"little\",\"shape\":[201]},\"SMA(C,10)_0_1\":{\"__ndarray__\":\"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\",\"dtype\":\"float64\",\"order\":\"little\",\"shape\":[201]},\"SMA(C,39)_1_1\":{\"__ndarray__\":\"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\",\"dtype\":\"float64\",\"order\":\"little\",\"shape\":[201]},\"Volume\":{\"__ndarray__\":\"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\",\"dtype\":\"float64\",\"order\":\"little\",\"shape\":[201]},\"datetime\":{\"__ndarray__\":\"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\",\"dtype\":\"float64\",\"order\":\"little\",\"shape\":[201]},\"equity\":{\"__ndarray__\":\"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\",\"dtype\":\"float64\",\"order\":\"little\",\"shape\":[201]},\"inc\":[\"0\",\"0\",\"1\",\"0\",\"1\",\"0\",\"1\",\"1\",\"1\",\"1\",\"1\",\"0\",\"0\",\"1\",\"0\",\"0\",\"0\",\"0\",\"0\",\"1\",\"1\",\"1\",\"0\",\"1\",\"1\",\"0\",\"0\",\"1\",\"1\",\"1\",\"0\",\"0\",\"0\",\"1\",\"0\",\"1\",\"1\",\"1\",\"0\",\"0\",\"1\",\"0\",\"1\",\"1\",\"1\",\"1\",\"0\",\"1\",\"0\",\"1\",\"0\",\"1\",\"0\",\"1\",\"0\",\"1\",\"1\",\"1\",\"1\",\"0\",\"0\",\"1\",\"1\",\"0\",\"1\",\"1\",\"0\",\"0\",\"0\",\"1\",\"1\",\"0\",\"1\",\"0\",\"0\",\"0\",\"1\",\"0\",\"0\",\"0\",\"1\",\"1\",\"0\",\"1\",\"0\",\"1\",\"1\",\"0\",\"0\",\"1\",\"0\",\"0\",\"1\",\"0\",\"0\",\"0\",\"1\",\"0\",\"1\",\"0\",\"1\",\"0\",\"1\",\"1\",\"1\",\"1\",\"1\",\"1\",\"0\",\"0\",\"1\",\"1\",\"1\",\"0\",\"1\",\"0\",\"1\",\"1\",\"1\",\"1\",\"0\",\"0\",\"0\",\"0\",\"1\",\"1\",\"1\",\"0\",\"0\",\"0\",\"0\",\"1\",\"0\",\"0\",\"1\",\"0\",\"1\",\"1\",\"1\",\"0\",\"0\",\"0\",\"1\",\"0\",\"1\",\"0\",\"1\",\"1\",\"1\",\"1\",\"1\",\"0\",\"1\",\"1\",\"1\",\"1\",\"0\",\"0\",\"0\",\"1\",\"1\",\"0\",\"0\",\"0\",\"1\",\"0\",\"1\",\"0\",\"1\",\"0\",\"1\",\"1\",\"1\",\"0\",\"0\",\"0\",\"0\",\"0\",\"1\",\"1\",\"0\",\"0\",\"0\",\"0\",\"1\",\"1\",\"0\",\"1\",\"0\",\"1\",\"0\",\"1\",\"1\",\"1\",\"1\",\"1\",\"0\",\"0\",\"1\",\"0\",\"0\"],\"index\":[0,1,2,3,4,5,6,7,8,9,10,11,12,13,14,15,16,17,18,19,20,21,22,23,24,25,26,27,28,29,30,31,32,33,34,35,36,37,38,39,40,41,42,43,44,45,46,47,48,49,50,51,52,53,54,55,56,57,58,59,60,61,62,63,64,65,66,67,68,69,70,71,72,73,74,75,76,77,78,79,80,81,82,83,84,85,86,87,88,89,90,91,92,93,94,95,96,97,98,99,100,101,102,103,104,105,106,107,108,109,110,111,112,113,114,115,116,117,118,119,120,121,122,123,124,125,126,127,128,129,130,131,132,133,134,135,136,137,138,139,140,141,142,143,144,145,146,147,148,149,150,151,152,153,154,155,156,157,158,159,160,161,162,163,164,165,166,167,168,169,170,171,172,173,174,175,176,177,178,179,180,181,182,183,184,185,186,187,188,189,190,191,192,193,194,195,196,197,198,199,200],\"ohlc_high\":{\"__ndarray__\":\"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\",\"dtype\":\"float64\",\"order\":\"little\",\"shape\":[201]},\"ohlc_low\":{\"__ndarray__\":\"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\",\"dtype\":\"float64\",\"order\":\"little\",\"shape\":[201]}},\"selected\":{\"id\":\"9657\"},\"selection_policy\":{\"id\":\"9656\"}},\"id\":\"9589\",\"type\":\"ColumnDataSource\"},{\"attributes\":{\"bottom\":{\"field\":\"Close\"},\"fill_alpha\":{\"value\":0.1},\"fill_color\":{\"field\":\"inc\",\"transform\":{\"id\":\"9591\"}},\"line_alpha\":{\"value\":0.1},\"top\":{\"field\":\"Open\"},\"width\":{\"value\":0.8},\"x\":{\"field\":\"index\"}},\"id\":\"9827\",\"type\":\"VBar\"},{\"attributes\":{},\"id\":\"9651\",\"type\":\"BasicTickFormatter\"},{\"attributes\":{\"line_alpha\":{\"value\":0.1},\"x0\":{\"field\":\"index\"},\"x1\":{\"field\":\"index\"},\"y0\":{\"field\":\"High\"},\"y1\":{\"field\":\"Low\"}},\"id\":\"9822\",\"type\":\"Segment\"},{\"attributes\":{\"below\":[{\"id\":\"9565\"}],\"center\":[{\"id\":\"9568\"},{\"id\":\"9572\"},{\"id\":\"9845\"}],\"left\":[{\"id\":\"9569\"}],\"min_border_bottom\":6,\"min_border_left\":0,\"min_border_right\":10,\"min_border_top\":3,\"outline_line_color\":\"#666666\",\"plot_height\":400,\"plot_width\":null,\"renderers\":[{\"id\":\"9823\"},{\"id\":\"9828\"},{\"id\":\"9833\"},{\"id\":\"9850\"},{\"id\":\"9866\"}],\"sizing_mode\":\"stretch_width\",\"title\":{\"id\":\"9835\"},\"toolbar\":{\"id\":\"9581\"},\"toolbar_location\":null,\"x_range\":{\"id\":\"9556\"},\"x_scale\":{\"id\":\"9561\"},\"y_range\":{\"id\":\"9559\"},\"y_scale\":{\"id\":\"9563\"}},\"id\":\"9557\",\"subtype\":\"Figure\",\"type\":\"Plot\"},{\"attributes\":{\"data_source\":{\"id\":\"9590\"},\"glyph\":{\"id\":\"9763\"},\"hover_glyph\":null,\"muted_glyph\":null,\"nonselection_glyph\":{\"id\":\"9764\"},\"selection_glyph\":null,\"view\":{\"id\":\"9766\"}},\"id\":\"9765\",\"type\":\"GlyphRenderer\"},{\"attributes\":{\"bottom_units\":\"screen\",\"fill_alpha\":0.5,\"fill_color\":\"lightgrey\",\"left_units\":\"screen\",\"level\":\"overlay\",\"line_alpha\":1.0,\"line_color\":\"black\",\"line_dash\":[4,4],\"line_width\":2,\"right_units\":\"screen\",\"top_units\":\"screen\"},\"id\":\"9620\",\"type\":\"BoxAnnotation\"},{\"attributes\":{\"active_drag\":{\"id\":\"9745\"},\"active_inspect\":\"auto\",\"active_multi\":null,\"active_scroll\":{\"id\":\"9746\"},\"active_tap\":\"auto\",\"tools\":[{\"id\":\"9745\"},{\"id\":\"9746\"},{\"id\":\"9747\"},{\"id\":\"9748\"},{\"id\":\"9749\"},{\"id\":\"9750\"},{\"id\":\"9751\"},{\"id\":\"9772\"},{\"id\":\"9774\"},{\"id\":\"9882\"}]},\"id\":\"9753\",\"type\":\"Toolbar\"},{\"attributes\":{},\"id\":\"9563\",\"type\":\"LinearScale\"},{\"attributes\":{},\"id\":\"9751\",\"type\":\"SaveTool\"},{\"attributes\":{\"source\":{\"id\":\"9644\"}},\"id\":\"9648\",\"type\":\"CDSView\"},{\"attributes\":{},\"id\":\"9726\",\"type\":\"Selection\"},{\"attributes\":{},\"id\":\"9750\",\"type\":\"ResetTool\"},{\"attributes\":{},\"id\":\"9701\",\"type\":\"UnionRenderers\"},{\"attributes\":{\"factors\":[\"0\",\"1\"],\"palette\":[\"tomato\",\"lime\"]},\"id\":\"9592\",\"type\":\"CategoricalColorMapper\"},{\"attributes\":{},\"id\":\"9748\",\"type\":\"UndoTool\"},{\"attributes\":{\"line_color\":\"red\",\"line_width\":2,\"x\":{\"field\":\"x\"},\"y\":{\"value\":1.1474602750459502}},\"id\":\"9706\",\"type\":\"Line\"},{\"attributes\":{},\"id\":\"9659\",\"type\":\"Selection\"},{\"attributes\":{},\"id\":\"9797\",\"type\":\"UndoTool\"},{\"attributes\":{},\"id\":\"9617\",\"type\":\"RedoTool\"},{\"attributes\":{\"dimensions\":\"width\",\"maintain_focus\":false},\"id\":\"9614\",\"type\":\"WheelZoomTool\"},{\"attributes\":{\"overlay\":{\"id\":\"9801\"}},\"id\":\"9796\",\"type\":\"BoxZoomTool\"},{\"attributes\":{\"data_source\":{\"id\":\"9629\"},\"glyph\":{\"id\":\"9631\"},\"hover_glyph\":null,\"muted_glyph\":null,\"nonselection_glyph\":{\"id\":\"9632\"},\"selection_glyph\":null,\"view\":{\"id\":\"9634\"}},\"id\":\"9633\",\"type\":\"GlyphRenderer\"},{\"attributes\":{\"data\":{\"datetime\":{\"__ndarray__\":\"DIbInZVsd0IMhvic/Gx3QgyGeIszbXdCDIZALWBtd0IMhhALZ213QgyGCM+MbXdCDIaIvcNtd0I=\",\"dtype\":\"float64\",\"order\":\"little\",\"shape\":[7]},\"exit_price\":{\"__ndarray__\":\"Ixv+iYD5Gj95bBUOzvEbP4KIefsYGB4/Jhx6i4f3HD/vN3+4UJ4ePzFRzmEIShs/ia8bW3RXGz8=\",\"dtype\":\"float64\",\"order\":\"little\",\"shape\":[7]},\"index\":[112,142,158,171,173,184,200],\"marker_size\":{\"__ndarray__\":\"AAAAAAAANECOfZiFPs0xQCQKMsdc/zFAxcjL4RzAJ0AA2zDhGRUoQAAAAAAAACBAu/juiARLIEA=\",\"dtype\":\"float64\",\"order\":\"little\",\"shape\":[7]},\"position_lines_xs\":[[82,112],[112,142],[142,158],[158,171],[171,173],[173,184],[184,200]],\"position_lines_ys\":[[0.0001003955,0.0001029],[0.00010341449999999998,0.0001066],[0.000106067,0.0001148],[0.00011537399999999998,0.0001105],[0.0001099475,0.0001168],[0.000117384,0.0001041],[0.0001035795,0.0001043]],\"returns_long\":{\"__ndarray__\":\"AAAAAAAA+H8A7mBd4YqfPwAAAAAAAPh/kNq1Wyqhpb8AAAAAAAD4f8CKP+aD+Ly/AAAAAAAA+H8=\",\"dtype\":\"float64\",\"order\":\"little\",\"shape\":[7]},\"returns_positive\":[\"0\",\"1\",\"0\",\"0\",\"0\",\"0\",\"0\"],\"returns_short\":{\"__ndarray__\":\"wKBWWoiLmb8AAAAAAAD4fwDOeuXjE7W/AAAAAAAA+H9g+iK1FumvvwAAAAAAAPh/AKBLnud9fL8=\",\"dtype\":\"float64\",\"order\":\"little\",\"shape\":[7]},\"size\":[-99606058,94285971,-94759770,79943033,-80344757,70564495,-70919090]},\"selected\":{\"id\":\"9843\"},\"selection_policy\":{\"id\":\"9842\"}},\"id\":\"9590\",\"type\":\"ColumnDataSource\"},{\"attributes\":{\"overlay\":{\"id\":\"9620\"}},\"id\":\"9615\",\"type\":\"BoxZoomTool\"},{\"attributes\":{},\"id\":\"9800\",\"type\":\"SaveTool\"},{\"attributes\":{},\"id\":\"9799\",\"type\":\"ResetTool\"},{\"attributes\":{\"source\":{\"id\":\"9629\"}},\"id\":\"9634\",\"type\":\"CDSView\"},{\"attributes\":{},\"id\":\"9798\",\"type\":\"RedoTool\"},{\"attributes\":{\"x0\":{\"field\":\"index\"},\"x1\":{\"field\":\"index\"},\"y0\":{\"field\":\"High\"},\"y1\":{\"field\":\"Low\"}},\"id\":\"9821\",\"type\":\"Segment\"},{\"attributes\":{\"fill_color\":\"#ffffea\",\"line_color\":\"#ffcb66\",\"x\":{\"field\":\"index\"},\"y\":{\"field\":\"equity_dd\"}},\"id\":\"9631\",\"type\":\"Patch\"},{\"attributes\":{\"dimensions\":\"width\",\"maintain_focus\":false},\"id\":\"9795\",\"type\":\"WheelZoomTool\"},{\"attributes\":{},\"id\":\"9843\",\"type\":\"Selection\"},{\"attributes\":{\"label\":{\"value\":\"SMA(C,10)\"},\"renderers\":[{\"id\":\"9850\"}]},\"id\":\"9862\",\"type\":\"LegendItem\"},{\"attributes\":{\"dimensions\":\"width\"},\"id\":\"9794\",\"type\":\"PanTool\"},{\"attributes\":{\"axis_label\":\"Equity\",\"formatter\":{\"id\":\"9642\"},\"minor_tick_line_color\":null,\"ticker\":{\"id\":\"9610\"}},\"id\":\"9609\",\"type\":\"LinearAxis\"},{\"attributes\":{\"fill_color\":{\"field\":\"inc\",\"transform\":{\"id\":\"9591\"}},\"line_color\":{\"field\":\"inc\",\"transform\":{\"id\":\"9591\"}},\"top\":{\"field\":\"Volume\"},\"width\":{\"value\":0.8},\"x\":{\"field\":\"index\"}},\"id\":\"9812\",\"type\":\"VBar\"},{\"attributes\":{\"toolbar\":{\"id\":\"9942\"}},\"id\":\"9943\",\"type\":\"ToolbarBox\"},{\"attributes\":{\"active_drag\":{\"id\":\"9794\"},\"active_inspect\":\"auto\",\"active_multi\":null,\"active_scroll\":{\"id\":\"9795\"},\"active_tap\":\"auto\",\"tools\":[{\"id\":\"9794\"},{\"id\":\"9795\"},{\"id\":\"9796\"},{\"id\":\"9797\"},{\"id\":\"9798\"},{\"id\":\"9799\"},{\"id\":\"9800\"},{\"id\":\"9816\"},{\"id\":\"9882\"}]},\"id\":\"9802\",\"type\":\"Toolbar\"},{\"attributes\":{\"source\":{\"id\":\"9589\"}},\"id\":\"9639\",\"type\":\"CDSView\"},{\"attributes\":{\"factors\":[\"0\",\"1\"],\"palette\":[\"rgb(178, 27, 0)\",\"rgb(0, 178, 0)\"]},\"id\":\"9593\",\"type\":\"CategoricalColorMapper\"},{\"attributes\":{},\"id\":\"9882\",\"type\":\"CrosshairTool\"},{\"attributes\":{\"fill_alpha\":0.1,\"fill_color\":\"#ffffea\",\"line_alpha\":0.1,\"line_color\":\"#ffcb66\",\"x\":{\"field\":\"index\"},\"y\":{\"field\":\"equity_dd\"}},\"id\":\"9632\",\"type\":\"Patch\"},{\"attributes\":{\"data_source\":{\"id\":\"9589\"},\"glyph\":{\"id\":\"9864\"},\"hover_glyph\":null,\"muted_glyph\":null,\"nonselection_glyph\":{\"id\":\"9865\"},\"selection_glyph\":null,\"view\":{\"id\":\"9867\"}},\"id\":\"9866\",\"type\":\"GlyphRenderer\"},{\"attributes\":{\"format\":\"0 a\"},\"id\":\"9818\",\"type\":\"NumeralTickFormatter\"},{\"attributes\":{\"below\":[{\"id\":\"9605\"}],\"center\":[{\"id\":\"9608\"},{\"id\":\"9612\"},{\"id\":\"9661\"}],\"left\":[{\"id\":\"9609\"}],\"min_border_bottom\":6,\"min_border_left\":0,\"min_border_right\":10,\"min_border_top\":3,\"outline_line_color\":\"#666666\",\"plot_height\":110,\"plot_width\":null,\"renderers\":[{\"id\":\"9633\"},{\"id\":\"9638\"},{\"id\":\"9647\"},{\"id\":\"9666\"},{\"id\":\"9686\"},{\"id\":\"9708\"}],\"sizing_mode\":\"stretch_width\",\"title\":{\"id\":\"9649\"},\"toolbar\":{\"id\":\"9621\"},\"toolbar_location\":null,\"x_range\":{\"id\":\"9556\"},\"x_scale\":{\"id\":\"9601\"},\"y_range\":{\"id\":\"9599\"},\"y_scale\":{\"id\":\"9603\"}},\"id\":\"9597\",\"subtype\":\"Figure\",\"type\":\"Plot\"},{\"attributes\":{\"source\":{\"id\":\"9589\"}},\"id\":\"9867\",\"type\":\"CDSView\"},{\"attributes\":{\"data_source\":{\"id\":\"9589\"},\"glyph\":{\"id\":\"9821\"},\"hover_glyph\":null,\"muted_glyph\":null,\"nonselection_glyph\":{\"id\":\"9822\"},\"selection_glyph\":null,\"view\":{\"id\":\"9824\"}},\"id\":\"9823\",\"type\":\"GlyphRenderer\"},{\"attributes\":{\"axis\":{\"id\":\"9609\"},\"dimension\":1,\"ticker\":null},\"id\":\"9612\",\"type\":\"Grid\"},{\"attributes\":{\"text\":\"\"},\"id\":\"9932\",\"type\":\"Title\"},{\"attributes\":{\"axis\":{\"id\":\"9786\"},\"ticker\":null},\"id\":\"9789\",\"type\":\"Grid\"},{\"attributes\":{\"source\":{\"id\":\"9589\"}},\"id\":\"9815\",\"type\":\"CDSView\"},{\"attributes\":{\"fill_alpha\":{\"value\":0.1},\"fill_color\":{\"field\":\"inc\",\"transform\":{\"id\":\"9591\"}},\"line_alpha\":{\"value\":0.1},\"line_color\":{\"field\":\"inc\",\"transform\":{\"id\":\"9591\"}},\"top\":{\"field\":\"Volume\"},\"width\":{\"value\":0.8},\"x\":{\"field\":\"index\"}},\"id\":\"9813\",\"type\":\"VBar\"},{\"attributes\":{\"args\":{\"ohlc_range\":{\"id\":\"9559\"},\"source\":{\"id\":\"9589\"},\"volume_range\":{\"id\":\"9780\"}},\"code\":\"if (!window._bt_scale_range) {\\n    window._bt_scale_range = function (range, min, max, pad) {\\n        \\\"use strict\\\";\\n        if (min !== Infinity && max !== -Infinity) {\\n            pad = pad ? (max - min) * .03 : 0;\\n            range.start = min - pad;\\n            range.end = max + pad;\\n        } else console.error('backtesting: scale range error:', min, max, range);\\n    };\\n}\\n\\nclearTimeout(window._bt_autoscale_timeout);\\n\\nwindow._bt_autoscale_timeout = setTimeout(function () {\\n    /**\\n     * @variable cb_obj `fig_ohlc.x_range`.\\n     * @variable source `ColumnDataSource`\\n     * @variable ohlc_range `fig_ohlc.y_range`.\\n     * @variable volume_range `fig_volume.y_range`.\\n     */\\n    \\\"use strict\\\";\\n\\n    let i = Math.max(Math.floor(cb_obj.start), 0),\\n        j = Math.min(Math.ceil(cb_obj.end), source.data['ohlc_high'].length);\\n\\n    let max = Math.max.apply(null, source.data['ohlc_high'].slice(i, j)),\\n        min = Math.min.apply(null, source.data['ohlc_low'].slice(i, j));\\n    _bt_scale_range(ohlc_range, min, max, true);\\n\\n    if (volume_range) {\\n        max = Math.max.apply(null, source.data['Volume'].slice(i, j));\\n        _bt_scale_range(volume_range, 0, max * 1.03, false);\\n    }\\n\\n}, 50);\\n\"},\"id\":\"9881\",\"type\":\"CustomJS\"},{\"attributes\":{},\"id\":\"9610\",\"type\":\"BasicTicker\"},{\"attributes\":{\"line_alpha\":0.1,\"line_color\":\"#ff7f0e\",\"line_width\":1.3,\"x\":{\"field\":\"index\"},\"y\":{\"field\":\"SMA(C,39)_1_1\"}},\"id\":\"9865\",\"type\":\"Line\"},{\"attributes\":{\"axis_label\":\"Volume\",\"formatter\":{\"id\":\"9818\"},\"minor_tick_line_color\":null,\"ticker\":{\"id\":\"9791\"}},\"id\":\"9790\",\"type\":\"LinearAxis\"},{\"attributes\":{\"source\":{\"id\":\"9589\"}},\"id\":\"9851\",\"type\":\"CDSView\"},{\"attributes\":{\"axis\":{\"id\":\"9605\"},\"ticker\":null},\"id\":\"9608\",\"type\":\"Grid\"},{\"attributes\":{\"text\":\"\"},\"id\":\"9910\",\"type\":\"Title\"},{\"attributes\":{},\"id\":\"9838\",\"type\":\"BasicTickFormatter\"},{\"attributes\":{\"days\":[\"%d %b\",\"%a %d\"],\"months\":[\"%m/%Y\",\"%b'%y\"]},\"id\":\"9594\",\"type\":\"DatetimeTickFormatter\"},{\"attributes\":{},\"id\":\"9791\",\"type\":\"BasicTicker\"},{\"attributes\":{},\"id\":\"9603\",\"type\":\"LinearScale\"},{\"attributes\":{\"data_source\":{\"id\":\"9589\"},\"glyph\":{\"id\":\"9812\"},\"hover_glyph\":null,\"muted_glyph\":null,\"nonselection_glyph\":{\"id\":\"9813\"},\"selection_glyph\":null,\"view\":{\"id\":\"9815\"}},\"id\":\"9814\",\"type\":\"GlyphRenderer\"},{\"attributes\":{\"data_source\":{\"id\":\"9589\"},\"glyph\":{\"id\":\"9848\"},\"hover_glyph\":null,\"muted_glyph\":null,\"nonselection_glyph\":{\"id\":\"9849\"},\"selection_glyph\":null,\"view\":{\"id\":\"9851\"}},\"id\":\"9850\",\"type\":\"GlyphRenderer\"},{\"attributes\":{\"formatter\":{\"id\":\"9595\"},\"ticker\":{\"id\":\"9787\"},\"visible\":true},\"id\":\"9786\",\"type\":\"LinearAxis\"},{\"attributes\":{\"children\":[[{\"id\":\"9597\"},0,0],[{\"id\":\"9729\"},1,0],[{\"id\":\"9557\"},2,0],[{\"id\":\"9778\"},3,0]]},\"id\":\"9941\",\"type\":\"GridBox\"},{\"attributes\":{\"formatter\":{\"id\":\"9651\"},\"ticker\":{\"id\":\"9606\"},\"visible\":false},\"id\":\"9605\",\"type\":\"LinearAxis\"},{\"attributes\":{\"args\":{\"axis\":{\"id\":\"9565\"},\"formatter\":{\"id\":\"9594\"},\"source\":{\"id\":\"9589\"}},\"code\":\"\\nthis.labels = this.labels || formatter.doFormat(ticks\\n                                                .map(i => source.data.datetime[i])\\n                                                .filter(t => t !== undefined));\\nreturn this.labels[index] || \\\"\\\";\\n        \"},\"id\":\"9595\",\"type\":\"FuncTickFormatter\"},{\"attributes\":{},\"id\":\"9787\",\"type\":\"BasicTicker\"},{\"attributes\":{\"axis\":{\"id\":\"9790\"},\"dimension\":1,\"ticker\":null},\"id\":\"9793\",\"type\":\"Grid\"},{\"attributes\":{},\"id\":\"9599\",\"type\":\"DataRange1d\"},{\"attributes\":{},\"id\":\"9616\",\"type\":\"UndoTool\"},{\"attributes\":{\"bottom_units\":\"screen\",\"fill_alpha\":0.5,\"fill_color\":\"lightgrey\",\"left_units\":\"screen\",\"level\":\"overlay\",\"line_alpha\":1.0,\"line_color\":\"black\",\"line_dash\":[4,4],\"line_width\":2,\"right_units\":\"screen\",\"top_units\":\"screen\"},\"id\":\"9801\",\"type\":\"BoxAnnotation\"},{\"attributes\":{},\"id\":\"9601\",\"type\":\"LinearScale\"},{\"attributes\":{\"callback\":null,\"formatters\":{\"@datetime\":\"datetime\"},\"mode\":\"vline\",\"point_policy\":\"follow_mouse\",\"renderers\":[{\"id\":\"9814\"}],\"tooltips\":[[\"Date\",\"@datetime{%c}\"],[\"Volume\",\"@Volume{0.00 a}\"]]},\"id\":\"9816\",\"type\":\"HoverTool\"},{\"attributes\":{\"dimensions\":\"width\"},\"id\":\"9613\",\"type\":\"PanTool\"},{\"attributes\":{\"text\":\"\"},\"id\":\"9835\",\"type\":\"Title\"},{\"attributes\":{\"callback\":null,\"formatters\":{\"@datetime\":\"datetime\"},\"mode\":\"vline\",\"point_policy\":\"follow_mouse\",\"renderers\":[{\"id\":\"9828\"}],\"tooltips\":[[\"Date\",\"@datetime{%c}\"],[\"x, y\",\"$index\\u00a0\\u00a0\\u00a0\\u00a0$y{0,0.0[0000]}\"],[\"OHLC\",\"@Open{0,0.0[0000]}\\u00a0\\u00a0\\u00a0\\u00a0@High{0,0.0[0000]}\\u00a0\\u00a0\\u00a0\\u00a0@Low{0,0.0[0000]}\\u00a0\\u00a0\\u00a0\\u00a0@Close{0,0.0[0000]}\"],[\"Volume\",\"@Volume{0,0}\"],[\"SMA(C,10)\",\"@{SMA(C,10)_0_1}{0,0.0[0000]}\"],[\"SMA(C,39)\",\"@{SMA(C,39)_1_1}{0,0.0[0000]}\"]]},\"id\":\"9879\",\"type\":\"HoverTool\"},{\"attributes\":{},\"id\":\"9606\",\"type\":\"BasicTicker\"},{\"attributes\":{\"source\":{\"id\":\"9590\"}},\"id\":\"9834\",\"type\":\"CDSView\"},{\"attributes\":{\"bottom\":{\"field\":\"Close\"},\"fill_color\":{\"field\":\"inc\",\"transform\":{\"id\":\"9591\"}},\"top\":{\"field\":\"Open\"},\"width\":{\"value\":0.8},\"x\":{\"field\":\"index\"}},\"id\":\"9826\",\"type\":\"VBar\"},{\"attributes\":{},\"id\":\"9842\",\"type\":\"UnionRenderers\"},{\"attributes\":{},\"id\":\"9912\",\"type\":\"BasicTickFormatter\"},{\"attributes\":{\"label\":{\"value\":\"Trades (7)\"},\"renderers\":[{\"id\":\"9833\"}]},\"id\":\"9846\",\"type\":\"LegendItem\"},{\"attributes\":{\"source\":{\"id\":\"9589\"}},\"id\":\"9824\",\"type\":\"CDSView\"},{\"attributes\":{\"border_line_color\":\"#333333\",\"click_policy\":\"hide\",\"items\":[{\"id\":\"9846\"},{\"id\":\"9862\"},{\"id\":\"9878\"}],\"label_text_font_size\":\"8pt\",\"location\":\"top_left\",\"margin\":0,\"padding\":5,\"spacing\":0},\"id\":\"9845\",\"type\":\"Legend\"}],\"root_ids\":[\"9944\"]},\"title\":\"Bokeh Application\",\"version\":\"2.2.3\"}};\n",
       "  var render_items = [{\"docid\":\"0886ac0c-f1ee-48aa-8145-62603ef619ec\",\"root_ids\":[\"9944\"],\"roots\":{\"9944\":\"a2473076-8acd-4fb5-90d6-97d38c0bb87a\"}}];\n",
       "  root.Bokeh.embed.embed_items_notebook(docs_json, render_items);\n",
       "\n",
       "  }\n",
       "  if (root.Bokeh !== undefined) {\n",
       "    embed_document(root);\n",
       "  } else {\n",
       "    var attempts = 0;\n",
       "    var timer = setInterval(function(root) {\n",
       "      if (root.Bokeh !== undefined) {\n",
       "        clearInterval(timer);\n",
       "        embed_document(root);\n",
       "      } else {\n",
       "        attempts++;\n",
       "        if (attempts > 100) {\n",
       "          clearInterval(timer);\n",
       "          console.log(\"Bokeh: ERROR: Unable to run BokehJS code because BokehJS library is missing\");\n",
       "        }\n",
       "      }\n",
       "    }, 10, root)\n",
       "  }\n",
       "})(window);"
      ],
      "application/vnd.bokehjs_exec.v0+json": ""
     },
     "metadata": {
      "application/vnd.bokehjs_exec.v0+json": {
       "id": "9944"
      }
     },
     "output_type": "display_data"
    }
   ],
   "source": [
    "from backtesting import Backtest, Strategy\n",
    "from backtesting.lib import crossover\n",
    "\n",
    "from backtesting.test import SMA\n",
    "\n",
    "t1 = [7,8,9,10]\n",
    "t2 = range(30,42,3)\n",
    "max_index = -1\n",
    "max_ret = 0\n",
    "for i in range(4):\n",
    "    class Smacross(Strategy):\n",
    "        def init(self):\n",
    "            price_close = self.data.Close\n",
    "            self.ma1 = self.I(SMA, price_close, t1[i])    #7 and 39 gives 54% return SUSHI hourly chart\n",
    "            self.ma2 = self.I(SMA, price_close, t2[i])\n",
    "\n",
    "\n",
    "        def next(self):\n",
    "            self.data.Volume\n",
    "            if crossover(self.ma1, self.ma2):\n",
    "                self.buy()\n",
    "            elif crossover(self.ma2, self.ma1):\n",
    "                self.sell()\n",
    "\n",
    "\n",
    "    bt = Backtest(df, Smacross, commission=.005, exclusive_orders=True)\n",
    "    stats = bt.run()\n",
    "    print(stats[\"Return [%]\"])\n",
    "    if stats[\"Return [%]\"]>max_ret:\n",
    "        max_ret = stats[\"Return [%]\"]\n",
    "        max_\n",
    "bt.plot()"
   ]
  },
  {
   "cell_type": "code",
   "execution_count": null,
   "metadata": {},
   "outputs": [],
   "source": []
  },
  {
   "cell_type": "code",
   "execution_count": null,
   "metadata": {},
   "outputs": [],
   "source": []
  },
  {
   "cell_type": "code",
   "execution_count": null,
   "metadata": {},
   "outputs": [],
   "source": []
  }
 ],
 "metadata": {
  "kernelspec": {
   "display_name": "Python 3",
   "language": "python",
   "name": "python3"
  },
  "language_info": {
   "codemirror_mode": {
    "name": "ipython",
    "version": 3
   },
   "file_extension": ".py",
   "mimetype": "text/x-python",
   "name": "python",
   "nbconvert_exporter": "python",
   "pygments_lexer": "ipython3",
   "version": "3.7.6"
  }
 },
 "nbformat": 4,
 "nbformat_minor": 4
}
